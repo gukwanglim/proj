{
 "cells": [
  {
   "cell_type": "code",
   "execution_count": 1,
   "id": "da98d174",
   "metadata": {
    "id": "da98d174",
    "outputId": "630e85a6-1dc3-4e8c-d4ac-f910be79e12d",
    "scrolled": false
   },
   "outputs": [
    {
     "name": "stdout",
     "output_type": "stream",
     "text": [
      "Defaulting to user installation because normal site-packages is not writeable\n",
      "Requirement already satisfied: cvzone in c:\\users\\ygl\\appdata\\roaming\\python\\python39\\site-packages (1.5.6)\n",
      "Requirement already satisfied: opencv-python in c:\\users\\ygl\\appdata\\roaming\\python\\python39\\site-packages (from cvzone) (4.6.0.66)\n",
      "Requirement already satisfied: numpy in c:\\programdata\\anaconda3\\lib\\site-packages (from cvzone) (1.21.5)\n"
     ]
    }
   ],
   "source": [
    "!pip install cvzone"
   ]
  },
  {
   "cell_type": "code",
   "execution_count": null,
   "id": "fcb79fa6",
   "metadata": {},
   "outputs": [],
   "source": [
    "!pip install mediapipe"
   ]
  },
  {
   "cell_type": "code",
   "execution_count": null,
   "id": "66d80d13",
   "metadata": {},
   "outputs": [],
   "source": [
    "!pip install natsort"
   ]
  },
  {
   "cell_type": "code",
   "execution_count": 19,
   "id": "696214c8",
   "metadata": {
    "id": "ede857fa",
    "outputId": "9d572e85-fc14-4186-9a6b-1fb468da6748"
   },
   "outputs": [],
   "source": [
    "import os, natsort\n",
    "import cv2, time\n",
    "import mediapipe as mp\n",
    "import matplotlib.pyplot as plt\n",
    "import re, csv\n",
    "import glob"
   ]
  },
  {
   "cell_type": "code",
   "execution_count": 13,
   "id": "ede857fa",
   "metadata": {
    "id": "ede857fa",
    "outputId": "9d572e85-fc14-4186-9a6b-1fb468da6748"
   },
   "outputs": [],
   "source": [
    "# class creation\n",
    "class handDetector():\n",
    "    def __init__(self, mode=False, maxHands=2, detectionCon=0.5,modelComplexity=1,trackCon=0.5):\n",
    "        self.mode = mode\n",
    "        self.maxHands = maxHands\n",
    "        self.detectionCon = detectionCon\n",
    "        self.modelComplex = modelComplexity\n",
    "        self.trackCon = trackCon\n",
    "        self.mpHands = mp.solutions.hands\n",
    "        self.hands = self.mpHands.Hands(self.mode, self.maxHands,self.modelComplex,\n",
    "                                        self.detectionCon, self.trackCon)\n",
    "        self.mpDraw = mp.solutions.drawing_utils # it gives small dots onhands total 20 landmark points\n",
    "\n",
    "    def findHands(self,img,draw=True):\n",
    "        # Send rgb image to hands\n",
    "        imgRGB = cv2.cvtColor(img,cv2.COLOR_BGR2RGB)\n",
    "        self.results = self.hands.process(imgRGB) # process the frame\n",
    "    #     print(results.multi_hand_landmarks)\n",
    "\n",
    "#         if self.results.multi_hand_landmarks:\n",
    "#             for handLms in self.results.multi_hand_landmarks:\n",
    "\n",
    "#                 if draw:\n",
    "#                     #Draw dots and connect them\n",
    "#                     self.mpDraw.draw_landmarks(img,handLms,\n",
    "#                                                 self.mpHands.HAND_CONNECTIONS)\n",
    "\n",
    "        return img\n",
    "\n",
    "    def findPosition(self,img, handNo=0, draw=True):\n",
    "        \"\"\"Lists the position/type of landmarks\n",
    "        we give in the list and in the list ww have stored\n",
    "        type and position of the landmarks.\n",
    "        List has all the lm position\"\"\"\n",
    "\n",
    "        lmlist = []\n",
    "\n",
    "        # check wether any landmark was detected\n",
    "        if self.results.multi_hand_landmarks:\n",
    "            #Which hand are we talking about\n",
    "            myHand = self.results.multi_hand_landmarks[handNo]\n",
    "            # Get id number and landmark information\n",
    "            for id, lm in enumerate(myHand.landmark):\n",
    "                # id will give id of landmark in exact index number\n",
    "                # height width and channel\n",
    "                h,w,c = img.shape\n",
    "                #find the position\n",
    "                cx,cy = int(lm.x*w), int(lm.y*h) #center\n",
    "                # print(id,cx,cy)\n",
    "                lmlist.append([id,cx,cy])\n",
    "\n",
    "                # Draw circle for 0th landmark\n",
    "#                 if draw:\n",
    "#                     cv2.circle(img,(cx,cy), 5 , (0,0,255), cv2.FILLED)\n",
    "\n",
    "        return lmlist\n",
    "\n",
    "def main():\n",
    "    #Frame rates\n",
    "    pTime = 0\n",
    "    cTime = 0\n",
    "    cap = cv2.VideoCapture(0)\n",
    "    detector = handDetector()\n",
    "\n",
    "    while True:\n",
    "        success,img = cap.read()\n",
    "        img = detector.findHands(img)\n",
    "        lmList = detector.findPosition(img)\n",
    "        if len(lmList) != 0:\n",
    "            print(lmList[4])\n",
    "\n",
    "        cTime = time.time()\n",
    "        fps = 1/(cTime-pTime)\n",
    "        pTime = cTime\n",
    "\n",
    "        cv2.putText(img,str(int(fps)),(10,70), cv2.FONT_HERSHEY_PLAIN,3,(255,0,255),3)\n",
    "\n",
    "        cv2.imshow(\"Video\",img)\n",
    "        if cv2.waitKey(1) == 27:\n",
    "            break\n",
    "\n",
    "    cap.release()\n",
    "    cv2.destroyAllWindows()\n",
    "\n",
    "# if __name__ == \"__main__\":\n",
    "#     main()"
   ]
  },
  {
   "cell_type": "code",
   "execution_count": 22,
   "id": "6498fe7c",
   "metadata": {
    "scrolled": true
   },
   "outputs": [
    {
     "name": "stdout",
     "output_type": "stream",
     "text": [
      "['0.jpg', '1.jpg', '2.jpg', '3.jpg', '4.jpg', '5.jpg', '6.jpg', '7.jpg', '8.jpg', '9.jpg', '10.jpg', '11.jpg', '12.jpg', '13.jpg', '14.jpg', '15.jpg', '16.jpg', '17.jpg', '18.jpg', '19.jpg', '20.jpg', '21.jpg', '22.jpg', '23.jpg', '24.jpg', '25.jpg', '26.jpg', '27.jpg', '28.jpg', '29.jpg', '30.jpg', '31.jpg', '32.jpg', '33.jpg', '34.jpg', '35.jpg', '36.jpg', '37.jpg', '38.jpg', '39.jpg', '40.jpg', '41.jpg', '42.jpg', '43.jpg', '44.jpg', '45.jpg', '46.jpg', '47.jpg', '48.jpg', '49.jpg', '50.jpg', '51.jpg', '52.jpg', '53.jpg', '54.jpg', '55.jpg', '56.jpg', '57.jpg', '58.jpg', '59.jpg', '60.jpg', '61.jpg', '62.jpg', '63.jpg', '64.jpg', '65.jpg', '66.jpg', '67.jpg', '68.jpg', '69.jpg', '70.jpg', '71.jpg', '72.jpg', '73.jpg', '74.jpg', '75.jpg', '76.jpg', '77.jpg', '78.jpg', '79.jpg', '80.jpg', '81.jpg', '82.jpg', '83.jpg', '84.jpg', '85.jpg', '86.jpg', '87.jpg', '88.jpg', '89.jpg', '90.jpg', '91.jpg', '92.jpg', '93.jpg', '94.jpg', '95.jpg', '96.jpg', '97.jpg', '98.jpg', '99.jpg', '100.jpg', '101.jpg', '102.jpg', '103.jpg', '104.jpg', '105.jpg', '106.jpg', '107.jpg', '108.jpg', '109.jpg', '110.jpg', '111.jpg', '112.jpg', '113.jpg', '114.jpg', '115.jpg', '116.jpg', '117.jpg', '118.jpg', '119.jpg', '120.jpg', '121.jpg', '122.jpg', '123.jpg', '124.jpg', '125.jpg', '126.jpg', '127.jpg', '128.jpg', '129.jpg', '130.jpg', '131.jpg', '132.jpg', '133.jpg', '134.jpg', '135.jpg', '136.jpg', '137.jpg', '138.jpg', '139.jpg', '140.jpg', '141.jpg', '142.jpg', '143.jpg', '144.jpg', '145.jpg', '146.jpg', '147.jpg', '148.jpg', '149.jpg', '150.jpg', '151.jpg', '152.jpg', '153.jpg', '154.jpg', '155.jpg', '156.jpg', '157.jpg', '158.jpg', '159.jpg', '160.jpg', '161.jpg', '162.jpg', '163.jpg', '164.jpg', '165.jpg', '166.jpg', '167.jpg', '168.jpg', '169.jpg', '170.jpg', '171.jpg', '172.jpg', '173.jpg', '174.jpg', '175.jpg', '176.jpg', '177.jpg', '178.jpg', '179.jpg', '180.jpg', '181.jpg', '182.jpg', '183.jpg', '184.jpg', '185.jpg', '186.jpg', '187.jpg', '188.jpg', '189.jpg', '190.jpg', '191.jpg', '192.jpg', '193.jpg', '194.jpg', '195.jpg', '196.jpg', '197.jpg', '198.jpg', '199.jpg', '200.jpg', '201.jpg', '202.jpg', '203.jpg', '204.jpg', '205.jpg', '206.jpg', '207.jpg', '208.jpg', '209.jpg', '210.jpg', '211.jpg', '212.jpg', '213.jpg', '214.jpg', '215.jpg', '216.jpg', '217.jpg', '218.jpg', '219.jpg', '220.jpg', '221.jpg', '222.jpg', '223.jpg', '224.jpg', '225.jpg', '226.jpg', '227.jpg', '228.jpg', '229.jpg', '230.jpg', '231.jpg', '232.jpg', '233.jpg', '234.jpg', '235.jpg', '236.jpg', '237.jpg', '238.jpg', '239.jpg', '240.jpg', '241.jpg', '242.jpg', '243.jpg', '244.jpg', '245.jpg', '246.jpg', '247.jpg', '248.jpg', '249.jpg', '250.jpg', '251.jpg', '252.jpg', '253.jpg', '254.jpg', '255.jpg', '256.jpg', '257.jpg', '258.jpg', '259.jpg', '260.jpg', '261.jpg', '262.jpg', '263.jpg', '264.jpg', '265.jpg', '266.jpg', '267.jpg', '268.jpg', '269.jpg', '270.jpg', '271.jpg', '272.jpg', '273.jpg', '274.jpg', '275.jpg', '276.jpg', '277.jpg', '278.jpg', '279.jpg', '280.jpg', '281.jpg', '282.jpg', '283.jpg', '284.jpg', '285.jpg', '286.jpg', '287.jpg', '288.jpg', '289.jpg', '290.jpg', '291.jpg', '292.jpg', '293.jpg', '294.jpg', '295.jpg', '296.jpg', '297.jpg', '298.jpg', '299.jpg', '300.jpg', '301.jpg', '302.jpg', '303.jpg', '304.jpg', '305.jpg', '306.jpg', '307.jpg', '308.jpg', '309.jpg', '310.jpg', '311.jpg', '312.jpg', '313.jpg', '314.jpg', '315.jpg', '316.jpg', '317.jpg', '318.jpg', '319.jpg', '320.jpg', '321.jpg', '322.jpg', '323.jpg', '324.jpg', '325.jpg', '326.jpg', '327.jpg', '328.jpg', '329.jpg', '330.jpg', '331.jpg', '332.jpg', '333.jpg', '334.jpg', '335.jpg', '336.jpg', '337.jpg', '338.jpg', '339.jpg', '340.jpg', '341.jpg', '342.jpg', '343.jpg', '344.jpg', '345.jpg', '346.jpg', '347.jpg', '348.jpg', '349.jpg', '350.jpg', '351.jpg', '352.jpg', '353.jpg', '354.jpg', '355.jpg', '356.jpg', '357.jpg', '358.jpg', '359.jpg', '360.jpg', '361.jpg', '362.jpg', '363.jpg', '364.jpg', '365.jpg', '366.jpg', '367.jpg', '368.jpg', '369.jpg', '370.jpg', '371.jpg', '372.jpg', '373.jpg', '374.jpg', '375.jpg', '376.jpg', '377.jpg', '378.jpg', '379.jpg', '380.jpg', '381.jpg', '382.jpg', '383.jpg', '384.jpg', '385.jpg', '386.jpg', '387.jpg', '388.jpg', '389.jpg', '390.jpg', '391.jpg', '392.jpg', '393.jpg', '394.jpg', '395.jpg', '396.jpg', '397.jpg', '398.jpg', '399.jpg', '400.jpg', '401.jpg', '402.jpg', '403.jpg', '404.jpg', '405.jpg', '406.jpg', '407.jpg', '408.jpg', '409.jpg', '410.jpg', '411.jpg', '412.jpg', '413.jpg', '414.jpg', '415.jpg', '416.jpg', '417.jpg', '418.jpg', '419.jpg', '420.jpg', '421.jpg', '422.jpg', '423.jpg', '424.jpg', '425.jpg', '426.jpg', '427.jpg', '428.jpg', '429.jpg', '430.jpg', '431.jpg', '432.jpg', '433.jpg', '434.jpg', '435.jpg', '436.jpg', '437.jpg', '438.jpg', '439.jpg', '440.jpg', '441.jpg', '442.jpg', '443.jpg', '444.jpg', '445.jpg', '446.jpg', '447.jpg', '448.jpg', '449.jpg', '450.jpg', '451.jpg', '452.jpg', '453.jpg', '454.jpg', '455.jpg', '456.jpg', '457.jpg', '458.jpg', '459.jpg', '460.jpg', '461.jpg', '462.jpg', '463.jpg', '464.jpg', '465.jpg', '466.jpg', '467.jpg', '468.jpg', '469.jpg', '470.jpg', '471.jpg', '472.jpg', '473.jpg', '474.jpg', '475.jpg', '476.jpg', '477.jpg', '478.jpg', '479.jpg', '480.jpg', '481.jpg', '482.jpg', '483.jpg', '484.jpg', '485.jpg', '486.jpg', '487.jpg', '488.jpg', '489.jpg', '490.jpg', '491.jpg', '492.jpg', '493.jpg', '494.jpg', '495.jpg', '496.jpg', '497.jpg', '498.jpg', '499.jpg', '500.jpg', '501.jpg', '502.jpg', '503.jpg', '504.jpg', '505.jpg', '506.jpg', '507.jpg', '508.jpg', '509.jpg']\n",
      "[[0, 111, 179], [1, 94, 171], [2, 79, 159], [3, 67, 149], [4, 68, 137], [5, 93, 128], [6, 82, 113], [7, 73, 121], [8, 69, 131], [9, 105, 123], [10, 99, 98], [11, 96, 81], [12, 93, 67], [13, 117, 125], [14, 119, 101], [15, 121, 87], [16, 121, 73], [17, 127, 133], [18, 132, 115], [19, 135, 103], [20, 137, 92]]\n",
      "\n",
      "[[0, 113, 180], [1, 95, 170], [2, 81, 158], [3, 69, 149], [4, 67, 139], [5, 94, 128], [6, 83, 114], [7, 74, 122], [8, 70, 132], [9, 105, 123], [10, 100, 98], [11, 97, 82], [12, 94, 67], [13, 117, 125], [14, 120, 102], [15, 122, 87], [16, 123, 73], [17, 128, 133], [18, 134, 116], [19, 137, 104], [20, 139, 92]]\n",
      "\n",
      "[[0, 114, 180], [1, 96, 170], [2, 82, 158], [3, 70, 149], [4, 68, 137], [5, 96, 128], [6, 84, 114], [7, 74, 121], [8, 71, 131], [9, 107, 123], [10, 102, 98], [11, 99, 82], [12, 97, 67], [13, 119, 125], [14, 122, 103], [15, 124, 87], [16, 125, 74], [17, 129, 133], [18, 135, 117], [19, 138, 105], [20, 141, 93]]\n",
      "\n",
      "[[0, 117, 182], [1, 99, 171], [2, 84, 158], [3, 72, 149], [4, 67, 138], [5, 101, 128], [6, 88, 114], [7, 77, 121], [8, 73, 130], [9, 112, 124], [10, 108, 99], [11, 104, 82], [12, 102, 68], [13, 122, 126], [14, 127, 104], [15, 130, 88], [16, 131, 74], [17, 130, 135], [18, 138, 118], [19, 142, 105], [20, 144, 94]]\n",
      "\n",
      "[[0, 118, 183], [1, 100, 171], [2, 86, 157], [3, 74, 148], [4, 69, 138], [5, 105, 128], [6, 90, 115], [7, 79, 121], [8, 74, 131], [9, 114, 124], [10, 111, 100], [11, 107, 83], [12, 105, 69], [13, 123, 127], [14, 130, 105], [15, 133, 89], [16, 134, 74], [17, 130, 136], [18, 139, 119], [19, 143, 106], [20, 146, 94]]\n",
      "\n",
      "[[0, 120, 185], [1, 101, 172], [2, 88, 157], [3, 76, 148], [4, 69, 137], [5, 107, 128], [6, 93, 114], [7, 81, 121], [8, 75, 130], [9, 116, 125], [10, 114, 100], [11, 111, 83], [12, 108, 68], [13, 124, 128], [14, 131, 105], [15, 134, 89], [16, 136, 74], [17, 129, 137], [18, 139, 120], [19, 143, 107], [20, 146, 94]]\n",
      "\n",
      "[[0, 125, 187], [1, 106, 170], [2, 93, 156], [3, 79, 147], [4, 72, 136], [5, 113, 128], [6, 98, 114], [7, 85, 122], [8, 79, 131], [9, 119, 125], [10, 119, 100], [11, 116, 83], [12, 114, 69], [13, 125, 129], [14, 134, 105], [15, 137, 88], [16, 139, 74], [17, 127, 137], [18, 139, 121], [19, 143, 107], [20, 146, 94]]\n",
      "\n",
      "[[0, 128, 189], [1, 108, 170], [2, 95, 155], [3, 82, 146], [4, 73, 136], [5, 115, 128], [6, 99, 115], [7, 86, 123], [8, 79, 133], [9, 120, 126], [10, 121, 101], [11, 117, 84], [12, 115, 69], [13, 124, 130], [14, 134, 106], [15, 137, 88], [16, 139, 73], [17, 125, 139], [18, 137, 122], [19, 141, 108], [20, 145, 95]]\n",
      "\n",
      "[[0, 129, 190], [1, 107, 170], [2, 96, 155], [3, 83, 146], [4, 74, 136], [5, 115, 128], [6, 100, 115], [7, 86, 123], [8, 79, 133], [9, 121, 127], [10, 121, 101], [11, 118, 84], [12, 116, 70], [13, 124, 131], [14, 133, 106], [15, 136, 88], [16, 139, 73], [17, 125, 139], [18, 136, 122], [19, 140, 108], [20, 144, 95]]\n",
      "\n",
      "[[0, 129, 190], [1, 107, 170], [2, 96, 155], [3, 83, 146], [4, 74, 136], [5, 115, 128], [6, 100, 115], [7, 86, 123], [8, 78, 134], [9, 120, 127], [10, 121, 101], [11, 117, 84], [12, 115, 70], [13, 123, 131], [14, 133, 105], [15, 135, 87], [16, 137, 72], [17, 124, 139], [18, 134, 121], [19, 138, 107], [20, 141, 94]]\n",
      "\n",
      "[[0, 124, 189], [1, 104, 171], [2, 92, 154], [3, 79, 145], [4, 70, 135], [5, 111, 128], [6, 97, 114], [7, 83, 122], [8, 75, 132], [9, 117, 126], [10, 118, 100], [11, 115, 82], [12, 112, 68], [13, 121, 130], [14, 131, 105], [15, 134, 87], [16, 136, 72], [17, 122, 138], [18, 133, 121], [19, 138, 107], [20, 141, 94]]\n",
      "\n",
      "[[0, 125, 190], [1, 104, 170], [2, 92, 154], [3, 79, 146], [4, 70, 136], [5, 111, 128], [6, 96, 115], [7, 83, 123], [8, 75, 133], [9, 117, 126], [10, 118, 100], [11, 115, 83], [12, 113, 69], [13, 121, 130], [14, 131, 105], [15, 134, 87], [16, 136, 73], [17, 122, 139], [18, 133, 122], [19, 138, 107], [20, 142, 94]]\n",
      "\n",
      "[[0, 121, 188], [1, 100, 170], [2, 88, 154], [3, 75, 144], [4, 66, 134], [5, 108, 127], [6, 93, 113], [7, 80, 120], [8, 73, 130], [9, 114, 124], [10, 115, 98], [11, 111, 81], [12, 108, 66], [13, 119, 128], [14, 130, 104], [15, 133, 86], [16, 135, 72], [17, 122, 137], [18, 133, 120], [19, 138, 106], [20, 143, 93]]\n",
      "\n"
     ]
    },
    {
     "name": "stdout",
     "output_type": "stream",
     "text": [
      "[[0, 120, 188], [1, 99, 170], [2, 87, 154], [3, 73, 144], [4, 65, 134], [5, 106, 126], [6, 91, 113], [7, 78, 120], [8, 71, 130], [9, 113, 124], [10, 113, 98], [11, 109, 80], [12, 107, 66], [13, 118, 127], [14, 128, 103], [15, 131, 86], [16, 134, 71], [17, 120, 136], [18, 132, 119], [19, 138, 105], [20, 142, 92]]\n",
      "\n",
      "[[0, 118, 187], [1, 97, 170], [2, 84, 154], [3, 71, 145], [4, 63, 134], [5, 103, 126], [6, 89, 112], [7, 75, 119], [8, 68, 129], [9, 111, 123], [10, 110, 98], [11, 106, 80], [12, 104, 65], [13, 117, 127], [14, 126, 103], [15, 130, 86], [16, 132, 71], [17, 120, 135], [18, 132, 118], [19, 137, 104], [20, 141, 91]]\n",
      "\n",
      "[[0, 117, 185], [1, 96, 170], [2, 82, 154], [3, 69, 145], [4, 61, 134], [5, 101, 126], [6, 86, 113], [7, 73, 119], [8, 67, 129], [9, 109, 122], [10, 107, 97], [11, 103, 80], [12, 100, 65], [13, 116, 125], [14, 124, 102], [15, 127, 85], [16, 129, 70], [17, 120, 134], [18, 131, 117], [19, 136, 103], [20, 139, 90]]\n",
      "\n",
      "[[0, 115, 184], [1, 94, 170], [2, 80, 154], [3, 67, 145], [4, 60, 134], [5, 99, 126], [6, 84, 112], [7, 72, 119], [8, 66, 129], [9, 107, 122], [10, 105, 97], [11, 101, 79], [12, 98, 65], [13, 115, 124], [14, 123, 101], [15, 126, 84], [16, 127, 70], [17, 120, 132], [18, 130, 116], [19, 135, 102], [20, 138, 89]]\n",
      "\n",
      "[[0, 114, 182], [1, 94, 169], [2, 79, 155], [3, 66, 146], [4, 60, 135], [5, 98, 125], [6, 82, 112], [7, 70, 119], [8, 65, 129], [9, 107, 121], [10, 103, 96], [11, 99, 79], [12, 96, 65], [13, 116, 123], [14, 122, 101], [15, 125, 84], [16, 126, 70], [17, 122, 132], [18, 131, 115], [19, 135, 101], [20, 138, 88]]\n",
      "\n",
      "[[0, 113, 181], [1, 94, 168], [2, 79, 155], [3, 66, 145], [4, 61, 134], [5, 98, 125], [6, 83, 111], [7, 71, 118], [8, 66, 128], [9, 107, 120], [10, 104, 96], [11, 99, 79], [12, 96, 64], [13, 116, 123], [14, 123, 99], [15, 125, 83], [16, 126, 69], [17, 123, 131], [18, 132, 114], [19, 136, 101], [20, 139, 88]]\n",
      "\n",
      "[[0, 114, 180], [1, 94, 168], [2, 79, 155], [3, 67, 145], [4, 61, 135], [5, 99, 124], [6, 83, 112], [7, 71, 118], [8, 66, 128], [9, 108, 120], [10, 103, 95], [11, 99, 78], [12, 96, 64], [13, 117, 122], [14, 123, 99], [15, 125, 83], [16, 126, 69], [17, 124, 131], [18, 133, 114], [19, 137, 101], [20, 139, 89]]\n",
      "\n",
      "[[0, 115, 180], [1, 96, 168], [2, 81, 155], [3, 68, 146], [4, 63, 135], [5, 99, 124], [6, 84, 111], [7, 72, 118], [8, 67, 128], [9, 109, 120], [10, 104, 95], [11, 100, 77], [12, 97, 62], [13, 118, 122], [14, 125, 99], [15, 127, 83], [16, 128, 68], [17, 125, 131], [18, 135, 114], [19, 139, 101], [20, 142, 88]]\n",
      "\n",
      "[[0, 115, 180], [1, 96, 168], [2, 81, 155], [3, 69, 146], [4, 62, 137], [5, 99, 124], [6, 84, 111], [7, 73, 119], [8, 68, 130], [9, 109, 119], [10, 105, 94], [11, 100, 77], [12, 98, 62], [13, 119, 123], [14, 125, 99], [15, 128, 83], [16, 129, 67], [17, 126, 132], [18, 136, 115], [19, 140, 102], [20, 143, 89]]\n",
      "\n",
      "[[0, 116, 180], [1, 97, 168], [2, 82, 155], [3, 70, 147], [4, 63, 137], [5, 100, 124], [6, 85, 112], [7, 74, 120], [8, 69, 130], [9, 110, 119], [10, 105, 94], [11, 101, 76], [12, 98, 61], [13, 119, 123], [14, 126, 99], [15, 129, 82], [16, 130, 67], [17, 127, 132], [18, 137, 116], [19, 141, 102], [20, 144, 90]]\n",
      "\n",
      "[[0, 116, 180], [1, 98, 168], [2, 84, 156], [3, 72, 148], [4, 65, 139], [5, 101, 124], [6, 85, 112], [7, 74, 121], [8, 70, 132], [9, 111, 120], [10, 107, 94], [11, 103, 76], [12, 100, 59], [13, 121, 123], [14, 129, 99], [15, 133, 83], [16, 134, 67], [17, 129, 133], [18, 140, 117], [19, 145, 104], [20, 149, 91]]\n",
      "\n",
      "[[0, 117, 179], [1, 99, 167], [2, 85, 155], [3, 73, 148], [4, 66, 139], [5, 102, 124], [6, 87, 112], [7, 76, 122], [8, 71, 133], [9, 112, 120], [10, 108, 94], [11, 104, 76], [12, 101, 59], [13, 122, 124], [14, 131, 100], [15, 135, 83], [16, 136, 67], [17, 129, 135], [18, 141, 118], [19, 147, 106], [20, 151, 93]]\n",
      "\n",
      "[[0, 118, 179], [1, 101, 167], [2, 87, 156], [3, 76, 151], [4, 68, 144], [5, 102, 125], [6, 88, 114], [7, 78, 125], [8, 73, 137], [9, 114, 121], [10, 111, 95], [11, 108, 77], [12, 106, 60], [13, 124, 126], [14, 134, 102], [15, 139, 86], [16, 141, 71], [17, 132, 138], [18, 145, 122], [19, 151, 110], [20, 156, 97]]\n",
      "\n",
      "[[0, 117, 179], [1, 102, 167], [2, 89, 157], [3, 77, 152], [4, 68, 146], [5, 104, 125], [6, 89, 115], [7, 78, 127], [8, 73, 138], [9, 115, 122], [10, 112, 96], [11, 109, 78], [12, 107, 60], [13, 125, 128], [14, 136, 103], [15, 141, 88], [16, 144, 73], [17, 133, 140], [18, 147, 124], [19, 153, 112], [20, 159, 100]]\n",
      "\n"
     ]
    }
   ],
   "source": [
    "img_file_list = os.listdir('./ok-samples/')\n",
    "img_file_list = natsort.natsorted(img_file_list)\n",
    "# print(img_file_list)\n",
    "\n",
    "img_files = []\n",
    "\n",
    "detector = handDetector()\n",
    "\n",
    "csv_label = ['file_name', 'x1', 'y1', 'x2', 'y2', 'x3', 'y3', 'x4', 'y4', 'label']\n",
    "\n",
    "with open('./ok_csv/ok_csv.csv', 'w', newline = '') as file:\n",
    "    write = csv.writer(file)\n",
    "    write.writerow(csv_label)\n",
    "\n",
    "for i in img_file_list:\n",
    "    img_path = './ok-samples/' + i\n",
    "    img_files.append(img_path)\n",
    "    \n",
    "# print(img_files)\n",
    "\n",
    "for i, j in enumerate(img_files):\n",
    "    img = cv2.imread(j)\n",
    "    img = detector.findHands(img)\n",
    "    lmList = detector.findPosition(img)\n",
    "    \n",
    "    dx = []\n",
    "    dy = []\n",
    "    max_x = None\n",
    "    min_x = None\n",
    "    max_y = None\n",
    "    min_y = None\n",
    "    \n",
    "    for xy in lmList:\n",
    "        \n",
    "        if len(xy) != 0:\n",
    "            \n",
    "            dx.append(xy[1])\n",
    "            dy.append(xy[2])\n",
    "            \n",
    "            max_x = max(dx)\n",
    "            min_x = min(dx)\n",
    "            max_y = max(dy)\n",
    "            min_y = min(dy)\n",
    "            \n",
    "#             xy_list = \n",
    "            \n",
    "        elif len(xy) == 0:\n",
    "            continue\n",
    "\n",
    "    if len(lmList) != 0:\n",
    "        print(lmList); print()\n",
    "\n",
    "        cv2.rectangle(img, (min_x - 10, min_y - 10), \n",
    "                      (max_x + 10, max_y + 10), (0, 0, 255), 1, cv2.LINE_AA)\n",
    "        cv2.imshow('img', img)\n",
    "    #         print(multi_hand_landmarks)\n",
    "    #     print(i)\n",
    "    \n",
    "        name = img_file_list[i]\n",
    "    \n",
    "        xy_list = []\n",
    "        xy_list = [f\"{re.sub('.jpg', '', name)}\", \n",
    "                   min_x-10 , min_y-10, max_x+10, min_y-10, min_x-10, max_y+10, max_x+10, max_y+10, 0]\n",
    "    \n",
    "        with open('./ok_csv/ok_csv.csv', 'a', newline = '') as file:\n",
    "            write = csv.writer(file)\n",
    "            write.writerow(xy_list)\n",
    "\n",
    "        cv2.imwrite(f'./ok_save/{name}', img)\n",
    "                \n",
    "    if cv2.waitKey(1) == 27:\n",
    "        break\n",
    "        \n",
    "cv2.destroyAllWindows()"
   ]
  },
  {
   "cell_type": "code",
   "execution_count": null,
   "id": "7063fcea",
   "metadata": {},
   "outputs": [],
   "source": [
    "import os"
   ]
  },
  {
   "cell_type": "code",
   "execution_count": null,
   "id": "3ce4e320",
   "metadata": {},
   "outputs": [],
   "source": [
    "img_file_list = os.listdir('./v-samples/')\n",
    "img_file_list_save = os.listdir('./v_save/')\n",
    "\n",
    "\n",
    "print(len(img_file_list))\n",
    "print(len(img_file_list_save))"
   ]
  },
  {
   "cell_type": "code",
   "execution_count": 21,
   "id": "27a13a60",
   "metadata": {},
   "outputs": [
    {
     "name": "stdout",
     "output_type": "stream",
     "text": [
      "['*', '-', '.', '.', '/', '/', 'a', 'e', 'g', 'j', 'k', 'l', 'm', 'o', 'p', 'p', 's', 's']\n"
     ]
    }
   ],
   "source": [
    "img_file_list = natsort.natsorted('./ok-samples/*.jpg')\n",
    "print(img_file_list)"
   ]
  },
  {
   "cell_type": "code",
   "execution_count": null,
   "id": "58936865",
   "metadata": {},
   "outputs": [],
   "source": []
  },
  {
   "cell_type": "code",
   "execution_count": null,
   "id": "c02eb110",
   "metadata": {},
   "outputs": [],
   "source": []
  },
  {
   "cell_type": "code",
   "execution_count": null,
   "id": "32f86ac7",
   "metadata": {},
   "outputs": [],
   "source": []
  }
 ],
 "metadata": {
  "colab": {
   "collapsed_sections": [],
   "name": "hand.ipynb",
   "provenance": []
  },
  "kernelspec": {
   "display_name": "Python 3 (ipykernel)",
   "language": "python",
   "name": "python3"
  },
  "language_info": {
   "codemirror_mode": {
    "name": "ipython",
    "version": 3
   },
   "file_extension": ".py",
   "mimetype": "text/x-python",
   "name": "python",
   "nbconvert_exporter": "python",
   "pygments_lexer": "ipython3",
   "version": "3.9.7"
  }
 },
 "nbformat": 4,
 "nbformat_minor": 5
}
