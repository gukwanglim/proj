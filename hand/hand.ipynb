{
 "cells": [
  {
   "cell_type": "code",
   "execution_count": 4,
   "id": "da98d174",
   "metadata": {
    "id": "da98d174",
    "outputId": "630e85a6-1dc3-4e8c-d4ac-f910be79e12d",
    "scrolled": true
   },
   "outputs": [
    {
     "name": "stdout",
     "output_type": "stream",
     "text": [
      "Defaulting to user installation because normal site-packages is not writeable\n",
      "Requirement already satisfied: cvzone in c:\\users\\ygl\\appdata\\roaming\\python\\python39\\site-packages (1.5.6)\n",
      "Requirement already satisfied: opencv-python in c:\\users\\ygl\\appdata\\roaming\\python\\python39\\site-packages (from cvzone) (4.6.0.66)\n",
      "Requirement already satisfied: numpy in c:\\programdata\\anaconda3\\lib\\site-packages (from cvzone) (1.21.5)\n"
     ]
    }
   ],
   "source": [
    "!pip install cvzone"
   ]
  },
  {
   "cell_type": "code",
   "execution_count": 5,
   "id": "ede857fa",
   "metadata": {
    "id": "ede857fa",
    "outputId": "9d572e85-fc14-4186-9a6b-1fb468da6748",
    "scrolled": false
   },
   "outputs": [],
   "source": [
    "import cv2\n",
    "import mediapipe as mp\n",
    "import time\n",
    "\n",
    "# class creation\n",
    "class handDetector():\n",
    "    def __init__(self, mode=False, maxHands=1, detectionCon=0.5,modelComplexity=1,trackCon=0.5):\n",
    "        self.mode = mode\n",
    "        self.maxHands = maxHands\n",
    "        self.detectionCon = detectionCon\n",
    "        self.modelComplex = modelComplexity\n",
    "        self.trackCon = trackCon\n",
    "        self.mpHands = mp.solutions.hands\n",
    "        self.hands = self.mpHands.Hands(self.mode, self.maxHands,self.modelComplex,\n",
    "                                        self.detectionCon, self.trackCon)\n",
    "        self.mpDraw = mp.solutions.drawing_utils # it gives small dots onhands total 20 landmark points\n",
    "#         self.mpDraw = mp.solutions.drawing_styles9\n",
    "\n",
    "    def findHands(self,img,draw=True):\n",
    "        # Send rgb image to hands\n",
    "        imgRGB = cv2.cvtColor(img,cv2.COLOR_BGR2RGB)\n",
    "        self.results = self.hands.process(imgRGB) # process the frame\n",
    "    #     print(results.multi_hand_landmarks)\n",
    "\n",
    "        if self.results.multi_hand_landmarks:\n",
    "            for handLms in self.results.multi_hand_landmarks:\n",
    "\n",
    "                if draw:\n",
    "                    #Draw dots and connect them\n",
    "                    self.mpDraw.draw_landmarks(img,handLms,\n",
    "                                                self.mpHands.HAND_CONNECTIONS)\n",
    "\n",
    "        return img\n",
    "\n",
    "    def findPosition(self,img, handNo=0, draw=True):\n",
    "        \"\"\"Lists the position/type of landmarks\n",
    "        we give in the list and in the list ww have stored\n",
    "        type and position of the landmarks.\n",
    "        List has all the lm position\"\"\"\n",
    "\n",
    "        lmlist = []\n",
    "\n",
    "        # check wether any landmark was detected\n",
    "        if self.results.multi_hand_landmarks:\n",
    "            #Which hand are we talking about\n",
    "            myHand = self.results.multi_hand_landmarks[handNo]\n",
    "            # Get id number and landmark information\n",
    "            for id, lm in enumerate(myHand.landmark):\n",
    "                # id will give id of landmark in exact index number\n",
    "                # height width and channel\n",
    "                h,w,c = img.shape\n",
    "                #find the position\n",
    "                cx,cy = int(lm.x*w), int(lm.y*h) #center\n",
    "                # print(id,cx,cy)\n",
    "                lmlist.append([id,cx,cy])\n",
    "\n",
    "                # Draw circle for 0th landmark\n",
    "                if draw:\n",
    "                    cv2.circle(img,(cx,cy), 5 , (0,0,255), cv2.FILLED)\n",
    "\n",
    "        return lmlist\n",
    "\n",
    "def main():\n",
    "    #Frame rates\n",
    "    pTime = 0\n",
    "    cTime = 0\n",
    "    cap = cv2.VideoCapture(0)\n",
    "    detector = handDetector()\n",
    "\n",
    "    while True:\n",
    "        success,img = cap.read()\n",
    "        img = detector.findHands(img)\n",
    "        lmList = detector.findPosition(img)\n",
    "        if len(lmList) != 0:\n",
    "            print(lmList[4])\n",
    "\n",
    "        cTime = time.time()\n",
    "        fps = 1/(cTime-pTime)\n",
    "        pTime = cTime\n",
    "\n",
    "        cv2.putText(img,str(int(fps)),(10,70), cv2.FONT_HERSHEY_PLAIN,3,(255,0,255),3)\n",
    "\n",
    "        cv2.imshow(\"Video\",img)\n",
    "        if cv2.waitKey(1) == ord('q'):\n",
    "            break\n",
    "\n",
    "    cap.release()\n",
    "    cv2.destroyAllWindows()"
   ]
  },
  {
   "cell_type": "code",
   "execution_count": null,
   "id": "70aaa19e",
   "metadata": {},
   "outputs": [],
   "source": []
  },
  {
   "cell_type": "code",
   "execution_count": null,
   "id": "03d171df",
   "metadata": {},
   "outputs": [],
   "source": []
  },
  {
   "cell_type": "code",
   "execution_count": 6,
   "id": "75a78c2c",
   "metadata": {},
   "outputs": [],
   "source": [
    "import os\n",
    "import cv2\n",
    "import mediapipe as mp"
   ]
  },
  {
   "cell_type": "code",
   "execution_count": 7,
   "id": "fbb352df",
   "metadata": {},
   "outputs": [],
   "source": [
    "def findHands(img, draw=True):\n",
    "    \n",
    "    hands = mpHands.Hands(self.mode, self.maxHands,self.modelComplex,\n",
    "                                        self.detectionCon, self.trackCon)\n",
    "    \n",
    "    # Send rgb image to hands\n",
    "    imgRGB = cv2.cvtColor(img,cv2.COLOR_BGR2RGB)\n",
    "    results = hands.process(imgRGB) # process the frame\n",
    "\n",
    "    if results.multi_hand_landmarks:\n",
    "        for handLms in results.multi_hand_landmarks:\n",
    "\n",
    "            if draw:\n",
    "                #Draw dots and connect them\n",
    "                mpDraw.draw_landmarks(img,handLms,\n",
    "                                      self.mpHands.HAND_CONNECTIONS)\n",
    "    return img"
   ]
  },
  {
   "cell_type": "code",
   "execution_count": 14,
   "id": "65fcc016",
   "metadata": {},
   "outputs": [],
   "source": [
    "def findPosition(img, handNo=0, draw=True):\n",
    "    \"\"\"Lists the position/type of landmarks\n",
    "    we give in the list and in the list ww have stored\n",
    "    type and position of the landmarks.\n",
    "    List has all the lm position\"\"\"\n",
    "    \n",
    "\n",
    "    lmlist = []\n",
    "#     xList = []\n",
    "#     yList = []\n",
    "#     bbox = []\n",
    "#     bboxInfo =[]\n",
    "#     handNo=0\n",
    "#     myHand = results.multi_hand_landmarks[handNo]\n",
    "\n",
    "\n",
    "    # check wether any landmark was detected\n",
    "    if results.multi_hand_landmarks:\n",
    "        #Which hand are we talking about\n",
    "        myHand = results.multi_hand_landmarks[handNo]\n",
    "        # Get id number and landmark information\n",
    "#         print(multi_hand_landmarks)\n",
    "\n",
    "\n",
    "        \n",
    "        for id, lm in enumerate(myHand.landmark):\n",
    "            # id will give id of landmark in exact index number\n",
    "            # height width and channel\n",
    "            h,w,c = img.shape\n",
    "            #find the position\n",
    "            cx,cy = int(lm.x*w), int(lm.y*h) #center\n",
    "            # print(id,cx,cy)\n",
    "            lmlist.append([id,cx,cy])\n",
    "            print(lmlist)\n",
    "\n",
    "            # Draw circle for 0th landmark\n",
    "            if draw:\n",
    "                cv2.circle(img,(cx,cy), 5 , (0,0,255), cv2.FILLED)\n",
    "\n",
    "    return lmlist"
   ]
  },
  {
   "cell_type": "code",
   "execution_count": 15,
   "id": "26e2c0c6",
   "metadata": {
    "scrolled": true
   },
   "outputs": [
    {
     "name": "stdout",
     "output_type": "stream",
     "text": [
      "[[0, 102, 180], [1, 90, 163], [2, 85, 143], [3, 85, 127], [4, 91, 125], [5, 112, 120], [6, 110, 97], [7, 108, 80], [8, 108, 67], [9, 124, 125], [10, 105, 113], [11, 97, 131], [12, 101, 139], [13, 131, 134], [14, 108, 129], [15, 101, 143], [16, 107, 149], [17, 134, 147], [18, 113, 143], [19, 108, 153], [20, 114, 157]]\n"
     ]
    }
   ],
   "source": [
    "img_file_list = os.listdir('./up-samples/')\n",
    "\n",
    "img_files = []\n",
    "\n",
    "detector = handDetector()\n",
    "\n",
    "for i in img_file_list:\n",
    "    img_path = './up-samples/' + i\n",
    "    img_files.append(img_path)\n",
    "    \n",
    "# print(img_files)\n",
    "enumerate\n",
    "for i, j in enumerate(img_files):\n",
    "    img = cv2.imread(j)\n",
    "    img = detector.findHands(img)\n",
    "    lmList = detector.findPosition(img)\n",
    "    \n",
    "    if len(lmList) != 0:\n",
    "        print(lmList)\n",
    "    \n",
    "        cv2.imshow('img', img)\n",
    "#         print(multi_hand_landmarks)\n",
    "#     print(i)\n",
    "                \n",
    "    if cv2.waitKey() == 27:\n",
    "        break\n",
    "        \n",
    "cv2.destroyAllWindows()"
   ]
  },
  {
   "cell_type": "code",
   "execution_count": null,
   "id": "e5176a66",
   "metadata": {},
   "outputs": [],
   "source": []
  },
  {
   "cell_type": "code",
   "execution_count": null,
   "id": "36393d16",
   "metadata": {},
   "outputs": [],
   "source": []
  },
  {
   "cell_type": "code",
   "execution_count": null,
   "id": "d9a0032c",
   "metadata": {},
   "outputs": [],
   "source": []
  },
  {
   "cell_type": "code",
   "execution_count": null,
   "id": "4b2ae283",
   "metadata": {},
   "outputs": [],
   "source": []
  },
  {
   "cell_type": "code",
   "execution_count": null,
   "id": "fb00455d",
   "metadata": {},
   "outputs": [],
   "source": []
  },
  {
   "cell_type": "code",
   "execution_count": null,
   "id": "ae34ac9a",
   "metadata": {},
   "outputs": [],
   "source": []
  },
  {
   "cell_type": "code",
   "execution_count": null,
   "id": "49c7402b",
   "metadata": {},
   "outputs": [],
   "source": []
  },
  {
   "cell_type": "code",
   "execution_count": null,
   "id": "6498fe7c",
   "metadata": {},
   "outputs": [],
   "source": []
  },
  {
   "cell_type": "code",
   "execution_count": null,
   "id": "7f76ccc4",
   "metadata": {},
   "outputs": [],
   "source": []
  },
  {
   "cell_type": "code",
   "execution_count": null,
   "id": "7063fcea",
   "metadata": {},
   "outputs": [],
   "source": []
  },
  {
   "cell_type": "code",
   "execution_count": null,
   "id": "3ce4e320",
   "metadata": {},
   "outputs": [],
   "source": []
  },
  {
   "cell_type": "code",
   "execution_count": null,
   "id": "7095655a",
   "metadata": {},
   "outputs": [],
   "source": []
  },
  {
   "cell_type": "code",
   "execution_count": null,
   "id": "90142b84",
   "metadata": {},
   "outputs": [],
   "source": []
  },
  {
   "cell_type": "code",
   "execution_count": null,
   "id": "27a13a60",
   "metadata": {},
   "outputs": [],
   "source": []
  },
  {
   "cell_type": "code",
   "execution_count": null,
   "id": "58936865",
   "metadata": {},
   "outputs": [],
   "source": []
  },
  {
   "cell_type": "code",
   "execution_count": null,
   "id": "c02eb110",
   "metadata": {},
   "outputs": [],
   "source": []
  },
  {
   "cell_type": "code",
   "execution_count": null,
   "id": "32f86ac7",
   "metadata": {},
   "outputs": [],
   "source": []
  }
 ],
 "metadata": {
  "colab": {
   "collapsed_sections": [],
   "name": "hand.ipynb",
   "provenance": []
  },
  "kernelspec": {
   "display_name": "Python 3 (ipykernel)",
   "language": "python",
   "name": "python3"
  },
  "language_info": {
   "codemirror_mode": {
    "name": "ipython",
    "version": 3
   },
   "file_extension": ".py",
   "mimetype": "text/x-python",
   "name": "python",
   "nbconvert_exporter": "python",
   "pygments_lexer": "ipython3",
   "version": "3.9.12"
  }
 },
 "nbformat": 4,
 "nbformat_minor": 5
}
