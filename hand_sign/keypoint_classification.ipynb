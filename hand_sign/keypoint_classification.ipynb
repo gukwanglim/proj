{
 "cells": [
  {
   "cell_type": "code",
   "execution_count": 1,
   "metadata": {},
   "outputs": [],
   "source": [
    "import csv\n",
    "\n",
    "import numpy as np\n",
    "import tensorflow as tf\n",
    "from sklearn.model_selection import train_test_split\n",
    "\n",
    "RANDOM_SEED = 42"
   ]
  },
  {
   "cell_type": "markdown",
   "metadata": {},
   "source": [
    "# 경로 설정"
   ]
  },
  {
   "cell_type": "code",
   "execution_count": 2,
   "metadata": {},
   "outputs": [],
   "source": [
    "dataset = 'model/keypoint_classifier/keypoint.csv'\n",
    "model_save_path = 'model/keypoint_classifier/keypoint_classifier.hdf5'"
   ]
  },
  {
   "cell_type": "markdown",
   "metadata": {},
   "source": [
    "# 분류 수 설정"
   ]
  },
  {
   "cell_type": "code",
   "execution_count": 3,
   "metadata": {},
   "outputs": [],
   "source": [
    "NUM_CLASSES = 18"
   ]
  },
  {
   "cell_type": "markdown",
   "metadata": {},
   "source": [
    "# 학습데이터 불러오기"
   ]
  },
  {
   "cell_type": "code",
   "execution_count": 4,
   "metadata": {},
   "outputs": [],
   "source": [
    "X_dataset = np.loadtxt(dataset, delimiter=',', dtype='float32', usecols=list(range(1, (21 * 2) + 1)))"
   ]
  },
  {
   "cell_type": "code",
   "execution_count": 5,
   "metadata": {},
   "outputs": [],
   "source": [
    "y_dataset = np.loadtxt(dataset, delimiter=',', dtype='int32', usecols=(0))"
   ]
  },
  {
   "cell_type": "code",
   "execution_count": 6,
   "metadata": {},
   "outputs": [],
   "source": [
    "X_train, X_test, y_train, y_test = train_test_split(X_dataset, y_dataset, train_size=0.75, random_state=RANDOM_SEED)"
   ]
  },
  {
   "cell_type": "markdown",
   "metadata": {},
   "source": [
    "# 모델구축"
   ]
  },
  {
   "cell_type": "code",
   "execution_count": 7,
   "metadata": {},
   "outputs": [],
   "source": [
    "model = tf.keras.models.Sequential([\n",
    "    tf.keras.layers.Input((21 * 2, )),\n",
    "    tf.keras.layers.Dropout(0.2),\n",
    "    tf.keras.layers.Dense(64, activation='relu'),\n",
    "    tf.keras.layers.Dropout(0.4),\n",
    "    tf.keras.layers.Dense(32, activation='relu'),\n",
    "    tf.keras.layers.Dense(NUM_CLASSES, activation='softmax')\n",
    "])"
   ]
  },
  {
   "cell_type": "code",
   "execution_count": 8,
   "metadata": {},
   "outputs": [
    {
     "name": "stdout",
     "output_type": "stream",
     "text": [
      "Model: \"sequential\"\n",
      "_________________________________________________________________\n",
      " Layer (type)                Output Shape              Param #   \n",
      "=================================================================\n",
      " dropout (Dropout)           (None, 42)                0         \n",
      "                                                                 \n",
      " dense (Dense)               (None, 64)                2752      \n",
      "                                                                 \n",
      " dropout_1 (Dropout)         (None, 64)                0         \n",
      "                                                                 \n",
      " dense_1 (Dense)             (None, 32)                2080      \n",
      "                                                                 \n",
      " dense_2 (Dense)             (None, 18)                594       \n",
      "                                                                 \n",
      "=================================================================\n",
      "Total params: 5,426\n",
      "Trainable params: 5,426\n",
      "Non-trainable params: 0\n",
      "_________________________________________________________________\n"
     ]
    }
   ],
   "source": [
    "model.summary()  # tf.keras.utils.plot_model(model, show_shapes=True)"
   ]
  },
  {
   "cell_type": "code",
   "execution_count": 9,
   "metadata": {},
   "outputs": [],
   "source": [
    "# モデルチェックポイントのコールバック\n",
    "cp_callback = tf.keras.callbacks.ModelCheckpoint(\n",
    "    model_save_path, verbose=1, save_weights_only=False)\n",
    "# 早期打ち切り用コールバック\n",
    "es_callback = tf.keras.callbacks.EarlyStopping(patience=20, verbose=1)"
   ]
  },
  {
   "cell_type": "code",
   "execution_count": 10,
   "metadata": {},
   "outputs": [],
   "source": [
    "# モデルコンパイル\n",
    "model.compile(\n",
    "    optimizer='adam',\n",
    "    loss='sparse_categorical_crossentropy',\n",
    "    metrics=['accuracy']\n",
    ")"
   ]
  },
  {
   "cell_type": "markdown",
   "metadata": {},
   "source": [
    "# 모델 훈련"
   ]
  },
  {
   "cell_type": "code",
   "execution_count": 11,
   "metadata": {
    "scrolled": true
   },
   "outputs": [
    {
     "name": "stdout",
     "output_type": "stream",
     "text": [
      "Epoch 1/1000\n",
      " 1/66 [..............................] - ETA: 8s - loss: 2.8876 - accuracy: 0.0703"
     ]
    },
    {
     "name": "stderr",
     "output_type": "stream",
     "text": [
      "2022-07-02 20:40:49.598551: W tensorflow/core/platform/profile_utils/cpu_utils.cc:128] Failed to get CPU frequency: 0 Hz\n"
     ]
    },
    {
     "name": "stdout",
     "output_type": "stream",
     "text": [
      "\n",
      "Epoch 00001: saving model to model/keypoint_classifier/keypoint_classifier.hdf5\n",
      "66/66 [==============================] - 0s 2ms/step - loss: 2.3901 - accuracy: 0.2812 - val_loss: 1.6612 - val_accuracy: 0.4935\n",
      "Epoch 2/1000\n",
      " 1/66 [..............................] - ETA: 0s - loss: 1.9007 - accuracy: 0.3828\n",
      "Epoch 00002: saving model to model/keypoint_classifier/keypoint_classifier.hdf5\n",
      "66/66 [==============================] - 0s 976us/step - loss: 1.3379 - accuracy: 0.5865 - val_loss: 0.7095 - val_accuracy: 0.9071\n",
      "Epoch 3/1000\n",
      " 1/66 [..............................] - ETA: 0s - loss: 0.9092 - accuracy: 0.7422\n",
      "Epoch 00003: saving model to model/keypoint_classifier/keypoint_classifier.hdf5\n",
      "66/66 [==============================] - 0s 992us/step - loss: 0.7777 - accuracy: 0.7564 - val_loss: 0.3281 - val_accuracy: 0.9852\n",
      "Epoch 4/1000\n",
      " 1/66 [..............................] - ETA: 0s - loss: 0.6081 - accuracy: 0.8359\n",
      "Epoch 00004: saving model to model/keypoint_classifier/keypoint_classifier.hdf5\n",
      "66/66 [==============================] - 0s 1ms/step - loss: 0.5443 - accuracy: 0.8352 - val_loss: 0.1931 - val_accuracy: 0.9903\n",
      "Epoch 5/1000\n",
      " 1/66 [..............................] - ETA: 0s - loss: 0.5648 - accuracy: 0.8281\n",
      "Epoch 00005: saving model to model/keypoint_classifier/keypoint_classifier.hdf5\n",
      "66/66 [==============================] - 0s 993us/step - loss: 0.4008 - accuracy: 0.8788 - val_loss: 0.1268 - val_accuracy: 0.9932\n",
      "Epoch 6/1000\n",
      " 1/66 [..............................] - ETA: 0s - loss: 0.3806 - accuracy: 0.8672\n",
      "Epoch 00006: saving model to model/keypoint_classifier/keypoint_classifier.hdf5\n",
      "66/66 [==============================] - 0s 966us/step - loss: 0.3311 - accuracy: 0.9040 - val_loss: 0.0922 - val_accuracy: 0.9932\n",
      "Epoch 7/1000\n",
      " 1/66 [..............................] - ETA: 0s - loss: 0.4089 - accuracy: 0.8203\n",
      "Epoch 00007: saving model to model/keypoint_classifier/keypoint_classifier.hdf5\n",
      "66/66 [==============================] - 0s 958us/step - loss: 0.2869 - accuracy: 0.9167 - val_loss: 0.0696 - val_accuracy: 0.9946\n",
      "Epoch 8/1000\n",
      " 1/66 [..............................] - ETA: 0s - loss: 0.3038 - accuracy: 0.8984\n",
      "Epoch 00008: saving model to model/keypoint_classifier/keypoint_classifier.hdf5\n",
      "66/66 [==============================] - 0s 956us/step - loss: 0.2433 - accuracy: 0.9297 - val_loss: 0.0530 - val_accuracy: 0.9946\n",
      "Epoch 9/1000\n",
      " 1/66 [..............................] - ETA: 0s - loss: 0.1947 - accuracy: 0.9453\n",
      "Epoch 00009: saving model to model/keypoint_classifier/keypoint_classifier.hdf5\n",
      "66/66 [==============================] - 0s 958us/step - loss: 0.2291 - accuracy: 0.9320 - val_loss: 0.0462 - val_accuracy: 0.9946\n",
      "Epoch 10/1000\n",
      " 1/66 [..............................] - ETA: 0s - loss: 0.1757 - accuracy: 0.9531\n",
      "Epoch 00010: saving model to model/keypoint_classifier/keypoint_classifier.hdf5\n",
      "66/66 [==============================] - 0s 953us/step - loss: 0.2062 - accuracy: 0.9405 - val_loss: 0.0412 - val_accuracy: 0.9939\n",
      "Epoch 11/1000\n",
      " 1/66 [..............................] - ETA: 0s - loss: 0.1693 - accuracy: 0.9531\n",
      "Epoch 00011: saving model to model/keypoint_classifier/keypoint_classifier.hdf5\n",
      "66/66 [==============================] - 0s 929us/step - loss: 0.1987 - accuracy: 0.9402 - val_loss: 0.0353 - val_accuracy: 0.9946\n",
      "Epoch 12/1000\n",
      " 1/66 [..............................] - ETA: 0s - loss: 0.1305 - accuracy: 0.9609\n",
      "Epoch 00012: saving model to model/keypoint_classifier/keypoint_classifier.hdf5\n",
      "66/66 [==============================] - 0s 944us/step - loss: 0.1802 - accuracy: 0.9449 - val_loss: 0.0319 - val_accuracy: 0.9939\n",
      "Epoch 13/1000\n",
      " 1/66 [..............................] - ETA: 0s - loss: 0.2172 - accuracy: 0.9453\n",
      "Epoch 00013: saving model to model/keypoint_classifier/keypoint_classifier.hdf5\n",
      "66/66 [==============================] - 0s 946us/step - loss: 0.1679 - accuracy: 0.9516 - val_loss: 0.0287 - val_accuracy: 0.9950\n",
      "Epoch 14/1000\n",
      " 1/66 [..............................] - ETA: 0s - loss: 0.1570 - accuracy: 0.9453\n",
      "Epoch 00014: saving model to model/keypoint_classifier/keypoint_classifier.hdf5\n",
      "66/66 [==============================] - 0s 939us/step - loss: 0.1695 - accuracy: 0.9456 - val_loss: 0.0265 - val_accuracy: 0.9950\n",
      "Epoch 15/1000\n",
      " 1/66 [..............................] - ETA: 0s - loss: 0.1723 - accuracy: 0.9453\n",
      "Epoch 00015: saving model to model/keypoint_classifier/keypoint_classifier.hdf5\n",
      "66/66 [==============================] - 0s 935us/step - loss: 0.1473 - accuracy: 0.9572 - val_loss: 0.0247 - val_accuracy: 0.9950\n",
      "Epoch 16/1000\n",
      " 1/66 [..............................] - ETA: 0s - loss: 0.1610 - accuracy: 0.9531\n",
      "Epoch 00016: saving model to model/keypoint_classifier/keypoint_classifier.hdf5\n",
      "66/66 [==============================] - 0s 959us/step - loss: 0.1429 - accuracy: 0.9584 - val_loss: 0.0218 - val_accuracy: 0.9950\n",
      "Epoch 17/1000\n",
      " 1/66 [..............................] - ETA: 0s - loss: 0.1552 - accuracy: 0.9609\n",
      "Epoch 00017: saving model to model/keypoint_classifier/keypoint_classifier.hdf5\n",
      "66/66 [==============================] - 0s 961us/step - loss: 0.1483 - accuracy: 0.9560 - val_loss: 0.0226 - val_accuracy: 0.9950\n",
      "Epoch 18/1000\n",
      " 1/66 [..............................] - ETA: 0s - loss: 0.0956 - accuracy: 0.9766\n",
      "Epoch 00018: saving model to model/keypoint_classifier/keypoint_classifier.hdf5\n",
      "66/66 [==============================] - 0s 974us/step - loss: 0.1493 - accuracy: 0.9548 - val_loss: 0.0225 - val_accuracy: 0.9953\n",
      "Epoch 19/1000\n",
      " 1/66 [..............................] - ETA: 0s - loss: 0.0703 - accuracy: 0.9844\n",
      "Epoch 00019: saving model to model/keypoint_classifier/keypoint_classifier.hdf5\n",
      "66/66 [==============================] - 0s 951us/step - loss: 0.1405 - accuracy: 0.9598 - val_loss: 0.0196 - val_accuracy: 0.9957\n",
      "Epoch 20/1000\n",
      " 1/66 [..............................] - ETA: 0s - loss: 0.1266 - accuracy: 0.9531\n",
      "Epoch 00020: saving model to model/keypoint_classifier/keypoint_classifier.hdf5\n",
      "66/66 [==============================] - 0s 940us/step - loss: 0.1375 - accuracy: 0.9581 - val_loss: 0.0223 - val_accuracy: 0.9950\n",
      "Epoch 21/1000\n",
      " 1/66 [..............................] - ETA: 0s - loss: 0.1416 - accuracy: 0.9688\n",
      "Epoch 00021: saving model to model/keypoint_classifier/keypoint_classifier.hdf5\n",
      "66/66 [==============================] - 0s 964us/step - loss: 0.1256 - accuracy: 0.9614 - val_loss: 0.0168 - val_accuracy: 0.9964\n",
      "Epoch 22/1000\n",
      " 1/66 [..............................] - ETA: 0s - loss: 0.0738 - accuracy: 0.9844\n",
      "Epoch 00022: saving model to model/keypoint_classifier/keypoint_classifier.hdf5\n",
      "66/66 [==============================] - 0s 950us/step - loss: 0.1270 - accuracy: 0.9609 - val_loss: 0.0180 - val_accuracy: 0.9953\n",
      "Epoch 23/1000\n",
      " 1/66 [..............................] - ETA: 0s - loss: 0.0533 - accuracy: 0.9922\n",
      "Epoch 00023: saving model to model/keypoint_classifier/keypoint_classifier.hdf5\n",
      "66/66 [==============================] - 0s 943us/step - loss: 0.1113 - accuracy: 0.9665 - val_loss: 0.0175 - val_accuracy: 0.9957\n",
      "Epoch 24/1000\n",
      " 1/66 [..............................] - ETA: 0s - loss: 0.0748 - accuracy: 0.9688\n",
      "Epoch 00024: saving model to model/keypoint_classifier/keypoint_classifier.hdf5\n",
      "66/66 [==============================] - 0s 975us/step - loss: 0.1140 - accuracy: 0.9658 - val_loss: 0.0172 - val_accuracy: 0.9957\n",
      "Epoch 25/1000\n",
      " 1/66 [..............................] - ETA: 0s - loss: 0.1973 - accuracy: 0.9375\n",
      "Epoch 00025: saving model to model/keypoint_classifier/keypoint_classifier.hdf5\n",
      "66/66 [==============================] - 0s 941us/step - loss: 0.1131 - accuracy: 0.9624 - val_loss: 0.0166 - val_accuracy: 0.9953\n",
      "Epoch 26/1000\n",
      " 1/66 [..............................] - ETA: 0s - loss: 0.1552 - accuracy: 0.9453\n",
      "Epoch 00026: saving model to model/keypoint_classifier/keypoint_classifier.hdf5\n",
      "66/66 [==============================] - 0s 969us/step - loss: 0.1061 - accuracy: 0.9666 - val_loss: 0.0162 - val_accuracy: 0.9960\n",
      "Epoch 27/1000\n",
      " 1/66 [..............................] - ETA: 0s - loss: 0.0829 - accuracy: 0.9766\n",
      "Epoch 00027: saving model to model/keypoint_classifier/keypoint_classifier.hdf5\n",
      "66/66 [==============================] - 0s 927us/step - loss: 0.1057 - accuracy: 0.9663 - val_loss: 0.0153 - val_accuracy: 0.9960\n",
      "Epoch 28/1000\n",
      " 1/66 [..............................] - ETA: 0s - loss: 0.1536 - accuracy: 0.9453\n",
      "Epoch 00028: saving model to model/keypoint_classifier/keypoint_classifier.hdf5\n",
      "66/66 [==============================] - 0s 940us/step - loss: 0.1029 - accuracy: 0.9686 - val_loss: 0.0165 - val_accuracy: 0.9960\n",
      "Epoch 29/1000\n",
      " 1/66 [..............................] - ETA: 0s - loss: 0.1198 - accuracy: 0.9844\n",
      "Epoch 00029: saving model to model/keypoint_classifier/keypoint_classifier.hdf5\n",
      "66/66 [==============================] - 0s 943us/step - loss: 0.1092 - accuracy: 0.9646 - val_loss: 0.0153 - val_accuracy: 0.9964\n",
      "Epoch 30/1000\n",
      " 1/66 [..............................] - ETA: 0s - loss: 0.0638 - accuracy: 0.9922\n",
      "Epoch 00030: saving model to model/keypoint_classifier/keypoint_classifier.hdf5\n",
      "66/66 [==============================] - 0s 936us/step - loss: 0.1035 - accuracy: 0.9665 - val_loss: 0.0171 - val_accuracy: 0.9953\n",
      "Epoch 31/1000\n",
      " 1/66 [..............................] - ETA: 0s - loss: 0.0673 - accuracy: 0.9844\n",
      "Epoch 00031: saving model to model/keypoint_classifier/keypoint_classifier.hdf5\n",
      "66/66 [==============================] - 0s 934us/step - loss: 0.1038 - accuracy: 0.9666 - val_loss: 0.0163 - val_accuracy: 0.9964\n",
      "Epoch 32/1000\n",
      " 1/66 [..............................] - ETA: 0s - loss: 0.0540 - accuracy: 0.9844\n",
      "Epoch 00032: saving model to model/keypoint_classifier/keypoint_classifier.hdf5\n",
      "66/66 [==============================] - 0s 927us/step - loss: 0.0968 - accuracy: 0.9708 - val_loss: 0.0139 - val_accuracy: 0.9964\n",
      "Epoch 33/1000\n",
      " 1/66 [..............................] - ETA: 0s - loss: 0.2350 - accuracy: 0.9688\n",
      "Epoch 00033: saving model to model/keypoint_classifier/keypoint_classifier.hdf5\n",
      "66/66 [==============================] - 0s 923us/step - loss: 0.0957 - accuracy: 0.9700 - val_loss: 0.0159 - val_accuracy: 0.9957\n",
      "Epoch 34/1000\n",
      " 1/66 [..............................] - ETA: 0s - loss: 0.0461 - accuracy: 0.9922\n",
      "Epoch 00034: saving model to model/keypoint_classifier/keypoint_classifier.hdf5\n",
      "66/66 [==============================] - 0s 948us/step - loss: 0.0998 - accuracy: 0.9689 - val_loss: 0.0143 - val_accuracy: 0.9960\n",
      "Epoch 35/1000\n",
      " 1/66 [..............................] - ETA: 0s - loss: 0.0736 - accuracy: 0.9688\n",
      "Epoch 00035: saving model to model/keypoint_classifier/keypoint_classifier.hdf5\n",
      "66/66 [==============================] - 0s 931us/step - loss: 0.0933 - accuracy: 0.9713 - val_loss: 0.0165 - val_accuracy: 0.9957\n",
      "Epoch 36/1000\n",
      " 1/66 [..............................] - ETA: 0s - loss: 0.1212 - accuracy: 0.9844\n",
      "Epoch 00036: saving model to model/keypoint_classifier/keypoint_classifier.hdf5\n",
      "66/66 [==============================] - 0s 939us/step - loss: 0.0980 - accuracy: 0.9695 - val_loss: 0.0141 - val_accuracy: 0.9957\n",
      "Epoch 37/1000\n",
      " 1/66 [..............................] - ETA: 0s - loss: 0.1046 - accuracy: 0.9844\n",
      "Epoch 00037: saving model to model/keypoint_classifier/keypoint_classifier.hdf5\n",
      "66/66 [==============================] - 0s 946us/step - loss: 0.0864 - accuracy: 0.9748 - val_loss: 0.0121 - val_accuracy: 0.9960\n",
      "Epoch 38/1000\n",
      " 1/66 [..............................] - ETA: 0s - loss: 0.1094 - accuracy: 0.9609\n",
      "Epoch 00038: saving model to model/keypoint_classifier/keypoint_classifier.hdf5\n",
      "66/66 [==============================] - 0s 944us/step - loss: 0.0861 - accuracy: 0.9728 - val_loss: 0.0122 - val_accuracy: 0.9964\n",
      "Epoch 39/1000\n",
      " 1/66 [..............................] - ETA: 0s - loss: 0.0474 - accuracy: 0.9844\n",
      "Epoch 00039: saving model to model/keypoint_classifier/keypoint_classifier.hdf5\n",
      "66/66 [==============================] - 0s 942us/step - loss: 0.0911 - accuracy: 0.9725 - val_loss: 0.0137 - val_accuracy: 0.9968\n",
      "Epoch 40/1000\n",
      " 1/66 [..............................] - ETA: 0s - loss: 0.0517 - accuracy: 0.9844\n",
      "Epoch 00040: saving model to model/keypoint_classifier/keypoint_classifier.hdf5\n",
      "66/66 [==============================] - 0s 939us/step - loss: 0.0867 - accuracy: 0.9749 - val_loss: 0.0131 - val_accuracy: 0.9960\n",
      "Epoch 41/1000\n",
      " 1/66 [..............................] - ETA: 0s - loss: 0.0644 - accuracy: 0.9688\n",
      "Epoch 00041: saving model to model/keypoint_classifier/keypoint_classifier.hdf5\n",
      "66/66 [==============================] - 0s 935us/step - loss: 0.0877 - accuracy: 0.9730 - val_loss: 0.0137 - val_accuracy: 0.9968\n",
      "Epoch 42/1000\n",
      " 1/66 [..............................] - ETA: 0s - loss: 0.2266 - accuracy: 0.9844\n",
      "Epoch 00042: saving model to model/keypoint_classifier/keypoint_classifier.hdf5\n",
      "66/66 [==============================] - 0s 941us/step - loss: 0.0888 - accuracy: 0.9754 - val_loss: 0.0131 - val_accuracy: 0.9960\n",
      "Epoch 43/1000\n",
      " 1/66 [..............................] - ETA: 0s - loss: 0.0639 - accuracy: 0.9922\n",
      "Epoch 00043: saving model to model/keypoint_classifier/keypoint_classifier.hdf5\n",
      "66/66 [==============================] - 0s 954us/step - loss: 0.0829 - accuracy: 0.9759 - val_loss: 0.0125 - val_accuracy: 0.9964\n",
      "Epoch 44/1000\n",
      " 1/66 [..............................] - ETA: 0s - loss: 0.0521 - accuracy: 0.9922\n",
      "Epoch 00044: saving model to model/keypoint_classifier/keypoint_classifier.hdf5\n",
      "66/66 [==============================] - 0s 949us/step - loss: 0.0817 - accuracy: 0.9746 - val_loss: 0.0114 - val_accuracy: 0.9968\n",
      "Epoch 45/1000\n",
      " 1/66 [..............................] - ETA: 0s - loss: 0.0746 - accuracy: 0.9766\n",
      "Epoch 00045: saving model to model/keypoint_classifier/keypoint_classifier.hdf5\n",
      "66/66 [==============================] - 0s 979us/step - loss: 0.0844 - accuracy: 0.9738 - val_loss: 0.0110 - val_accuracy: 0.9968\n",
      "Epoch 46/1000\n",
      " 1/66 [..............................] - ETA: 0s - loss: 0.0307 - accuracy: 1.0000\n",
      "Epoch 00046: saving model to model/keypoint_classifier/keypoint_classifier.hdf5\n",
      "66/66 [==============================] - 0s 963us/step - loss: 0.0782 - accuracy: 0.9774 - val_loss: 0.0113 - val_accuracy: 0.9968\n",
      "Epoch 47/1000\n",
      " 1/66 [..............................] - ETA: 0s - loss: 0.0541 - accuracy: 0.9844\n",
      "Epoch 00047: saving model to model/keypoint_classifier/keypoint_classifier.hdf5\n",
      "66/66 [==============================] - 0s 979us/step - loss: 0.0892 - accuracy: 0.9724 - val_loss: 0.0119 - val_accuracy: 0.9960\n",
      "Epoch 48/1000\n",
      " 1/66 [..............................] - ETA: 0s - loss: 0.0349 - accuracy: 0.9844\n",
      "Epoch 00048: saving model to model/keypoint_classifier/keypoint_classifier.hdf5\n",
      "66/66 [==============================] - 0s 943us/step - loss: 0.0857 - accuracy: 0.9740 - val_loss: 0.0121 - val_accuracy: 0.9968\n",
      "Epoch 49/1000\n",
      " 1/66 [..............................] - ETA: 0s - loss: 0.1243 - accuracy: 0.9688\n",
      "Epoch 00049: saving model to model/keypoint_classifier/keypoint_classifier.hdf5\n",
      "66/66 [==============================] - 0s 946us/step - loss: 0.0735 - accuracy: 0.9774 - val_loss: 0.0125 - val_accuracy: 0.9968\n",
      "Epoch 50/1000\n",
      " 1/66 [..............................] - ETA: 0s - loss: 0.0389 - accuracy: 0.9844\n",
      "Epoch 00050: saving model to model/keypoint_classifier/keypoint_classifier.hdf5\n",
      "66/66 [==============================] - 0s 949us/step - loss: 0.0816 - accuracy: 0.9767 - val_loss: 0.0122 - val_accuracy: 0.9968\n",
      "Epoch 51/1000\n",
      " 1/66 [..............................] - ETA: 0s - loss: 0.0498 - accuracy: 0.9844\n",
      "Epoch 00051: saving model to model/keypoint_classifier/keypoint_classifier.hdf5\n",
      "66/66 [==============================] - 0s 941us/step - loss: 0.0747 - accuracy: 0.9743 - val_loss: 0.0124 - val_accuracy: 0.9960\n",
      "Epoch 52/1000\n",
      " 1/66 [..............................] - ETA: 0s - loss: 0.0630 - accuracy: 0.9844\n",
      "Epoch 00052: saving model to model/keypoint_classifier/keypoint_classifier.hdf5\n",
      "66/66 [==============================] - 0s 934us/step - loss: 0.0775 - accuracy: 0.9766 - val_loss: 0.0115 - val_accuracy: 0.9964\n",
      "Epoch 53/1000\n",
      " 1/66 [..............................] - ETA: 0s - loss: 0.0722 - accuracy: 0.9844\n",
      "Epoch 00053: saving model to model/keypoint_classifier/keypoint_classifier.hdf5\n",
      "66/66 [==============================] - 0s 952us/step - loss: 0.0785 - accuracy: 0.9760 - val_loss: 0.0122 - val_accuracy: 0.9964\n",
      "Epoch 54/1000\n",
      " 1/66 [..............................] - ETA: 0s - loss: 0.0654 - accuracy: 0.9688\n",
      "Epoch 00054: saving model to model/keypoint_classifier/keypoint_classifier.hdf5\n",
      "66/66 [==============================] - 0s 951us/step - loss: 0.0837 - accuracy: 0.9747 - val_loss: 0.0123 - val_accuracy: 0.9964\n",
      "Epoch 55/1000\n",
      " 1/66 [..............................] - ETA: 0s - loss: 0.1338 - accuracy: 0.9453\n",
      "Epoch 00055: saving model to model/keypoint_classifier/keypoint_classifier.hdf5\n",
      "66/66 [==============================] - 0s 943us/step - loss: 0.0787 - accuracy: 0.9768 - val_loss: 0.0109 - val_accuracy: 0.9968\n",
      "Epoch 56/1000\n",
      " 1/66 [..............................] - ETA: 0s - loss: 0.0367 - accuracy: 0.9922\n",
      "Epoch 00056: saving model to model/keypoint_classifier/keypoint_classifier.hdf5\n",
      "66/66 [==============================] - 0s 940us/step - loss: 0.0725 - accuracy: 0.9768 - val_loss: 0.0118 - val_accuracy: 0.9960\n",
      "Epoch 57/1000\n",
      " 1/66 [..............................] - ETA: 0s - loss: 0.0368 - accuracy: 0.9922\n",
      "Epoch 00057: saving model to model/keypoint_classifier/keypoint_classifier.hdf5\n",
      "66/66 [==============================] - 0s 970us/step - loss: 0.0723 - accuracy: 0.9774 - val_loss: 0.0113 - val_accuracy: 0.9957\n",
      "Epoch 58/1000\n",
      " 1/66 [..............................] - ETA: 0s - loss: 0.0487 - accuracy: 0.9844\n",
      "Epoch 00058: saving model to model/keypoint_classifier/keypoint_classifier.hdf5\n",
      "66/66 [==============================] - 0s 943us/step - loss: 0.0717 - accuracy: 0.9778 - val_loss: 0.0111 - val_accuracy: 0.9968\n",
      "Epoch 59/1000\n",
      " 1/66 [..............................] - ETA: 0s - loss: 0.0587 - accuracy: 0.9844\n",
      "Epoch 00059: saving model to model/keypoint_classifier/keypoint_classifier.hdf5\n",
      "66/66 [==============================] - 0s 983us/step - loss: 0.0715 - accuracy: 0.9771 - val_loss: 0.0110 - val_accuracy: 0.9968\n",
      "Epoch 60/1000\n",
      " 1/66 [..............................] - ETA: 0s - loss: 0.1010 - accuracy: 0.9531\n",
      "Epoch 00060: saving model to model/keypoint_classifier/keypoint_classifier.hdf5\n",
      "66/66 [==============================] - 0s 965us/step - loss: 0.0703 - accuracy: 0.9782 - val_loss: 0.0100 - val_accuracy: 0.9975\n",
      "Epoch 61/1000\n",
      " 1/66 [..............................] - ETA: 0s - loss: 0.1075 - accuracy: 0.9766\n",
      "Epoch 00061: saving model to model/keypoint_classifier/keypoint_classifier.hdf5\n",
      "66/66 [==============================] - 0s 974us/step - loss: 0.0704 - accuracy: 0.9783 - val_loss: 0.0105 - val_accuracy: 0.9968\n",
      "Epoch 62/1000\n",
      " 1/66 [..............................] - ETA: 0s - loss: 0.0414 - accuracy: 0.9844\n",
      "Epoch 00062: saving model to model/keypoint_classifier/keypoint_classifier.hdf5\n",
      "66/66 [==============================] - 0s 955us/step - loss: 0.0698 - accuracy: 0.9776 - val_loss: 0.0113 - val_accuracy: 0.9968\n",
      "Epoch 63/1000\n",
      "60/66 [==========================>...] - ETA: 0s - loss: 0.0739 - accuracy: 0.9767\n",
      "Epoch 00063: saving model to model/keypoint_classifier/keypoint_classifier.hdf5\n",
      "66/66 [==============================] - 0s 1ms/step - loss: 0.0729 - accuracy: 0.9770 - val_loss: 0.0118 - val_accuracy: 0.9968\n",
      "Epoch 64/1000\n",
      " 1/66 [..............................] - ETA: 0s - loss: 0.0774 - accuracy: 0.9766\n",
      "Epoch 00064: saving model to model/keypoint_classifier/keypoint_classifier.hdf5\n",
      "66/66 [==============================] - 0s 965us/step - loss: 0.0655 - accuracy: 0.9791 - val_loss: 0.0108 - val_accuracy: 0.9968\n",
      "Epoch 65/1000\n",
      " 1/66 [..............................] - ETA: 0s - loss: 0.0311 - accuracy: 1.0000\n",
      "Epoch 00065: saving model to model/keypoint_classifier/keypoint_classifier.hdf5\n",
      "66/66 [==============================] - 0s 988us/step - loss: 0.0764 - accuracy: 0.9772 - val_loss: 0.0102 - val_accuracy: 0.9964\n",
      "Epoch 66/1000\n",
      " 1/66 [..............................] - ETA: 0s - loss: 0.0722 - accuracy: 0.9766\n",
      "Epoch 00066: saving model to model/keypoint_classifier/keypoint_classifier.hdf5\n",
      "66/66 [==============================] - 0s 979us/step - loss: 0.0658 - accuracy: 0.9807 - val_loss: 0.0095 - val_accuracy: 0.9971\n",
      "Epoch 67/1000\n",
      " 1/66 [..............................] - ETA: 0s - loss: 0.0553 - accuracy: 0.9766\n",
      "Epoch 00067: saving model to model/keypoint_classifier/keypoint_classifier.hdf5\n",
      "66/66 [==============================] - 0s 981us/step - loss: 0.0702 - accuracy: 0.9791 - val_loss: 0.0100 - val_accuracy: 0.9968\n",
      "Epoch 68/1000\n",
      " 1/66 [..............................] - ETA: 0s - loss: 0.0454 - accuracy: 0.9922\n",
      "Epoch 00068: saving model to model/keypoint_classifier/keypoint_classifier.hdf5\n",
      "66/66 [==============================] - 0s 955us/step - loss: 0.0718 - accuracy: 0.9782 - val_loss: 0.0114 - val_accuracy: 0.9968\n",
      "Epoch 69/1000\n",
      " 1/66 [..............................] - ETA: 0s - loss: 0.0423 - accuracy: 0.9922\n",
      "Epoch 00069: saving model to model/keypoint_classifier/keypoint_classifier.hdf5\n",
      "66/66 [==============================] - 0s 959us/step - loss: 0.0629 - accuracy: 0.9798 - val_loss: 0.0105 - val_accuracy: 0.9964\n",
      "Epoch 70/1000\n",
      " 1/66 [..............................] - ETA: 0s - loss: 0.0226 - accuracy: 0.9922\n",
      "Epoch 00070: saving model to model/keypoint_classifier/keypoint_classifier.hdf5\n",
      "66/66 [==============================] - 0s 988us/step - loss: 0.0626 - accuracy: 0.9812 - val_loss: 0.0116 - val_accuracy: 0.9971\n",
      "Epoch 71/1000\n",
      " 1/66 [..............................] - ETA: 0s - loss: 0.0352 - accuracy: 0.9922\n",
      "Epoch 00071: saving model to model/keypoint_classifier/keypoint_classifier.hdf5\n",
      "66/66 [==============================] - 0s 966us/step - loss: 0.0633 - accuracy: 0.9804 - val_loss: 0.0099 - val_accuracy: 0.9968\n",
      "Epoch 72/1000\n",
      " 1/66 [..............................] - ETA: 0s - loss: 0.1231 - accuracy: 0.9453\n",
      "Epoch 00072: saving model to model/keypoint_classifier/keypoint_classifier.hdf5\n",
      "66/66 [==============================] - 0s 952us/step - loss: 0.0736 - accuracy: 0.9750 - val_loss: 0.0100 - val_accuracy: 0.9971\n",
      "Epoch 73/1000\n",
      " 1/66 [..............................] - ETA: 0s - loss: 0.0470 - accuracy: 0.9844\n",
      "Epoch 00073: saving model to model/keypoint_classifier/keypoint_classifier.hdf5\n",
      "66/66 [==============================] - 0s 970us/step - loss: 0.0669 - accuracy: 0.9802 - val_loss: 0.0106 - val_accuracy: 0.9964\n",
      "Epoch 74/1000\n",
      " 1/66 [..............................] - ETA: 0s - loss: 0.0282 - accuracy: 0.9922\n",
      "Epoch 00074: saving model to model/keypoint_classifier/keypoint_classifier.hdf5\n",
      "66/66 [==============================] - 0s 971us/step - loss: 0.0695 - accuracy: 0.9767 - val_loss: 0.0115 - val_accuracy: 0.9975\n",
      "Epoch 75/1000\n",
      " 1/66 [..............................] - ETA: 0s - loss: 0.0892 - accuracy: 0.9766\n",
      "Epoch 00075: saving model to model/keypoint_classifier/keypoint_classifier.hdf5\n",
      "66/66 [==============================] - 0s 980us/step - loss: 0.0658 - accuracy: 0.9802 - val_loss: 0.0096 - val_accuracy: 0.9971\n",
      "Epoch 76/1000\n",
      " 1/66 [..............................] - ETA: 0s - loss: 0.0455 - accuracy: 0.9922\n",
      "Epoch 00076: saving model to model/keypoint_classifier/keypoint_classifier.hdf5\n",
      "66/66 [==============================] - 0s 962us/step - loss: 0.0629 - accuracy: 0.9827 - val_loss: 0.0107 - val_accuracy: 0.9964\n",
      "Epoch 77/1000\n",
      " 1/66 [..............................] - ETA: 0s - loss: 0.0938 - accuracy: 0.9453\n",
      "Epoch 00077: saving model to model/keypoint_classifier/keypoint_classifier.hdf5\n",
      "66/66 [==============================] - 0s 942us/step - loss: 0.0720 - accuracy: 0.9771 - val_loss: 0.0104 - val_accuracy: 0.9968\n",
      "Epoch 78/1000\n",
      " 1/66 [..............................] - ETA: 0s - loss: 0.0708 - accuracy: 0.9844\n",
      "Epoch 00078: saving model to model/keypoint_classifier/keypoint_classifier.hdf5\n",
      "66/66 [==============================] - 0s 938us/step - loss: 0.0646 - accuracy: 0.9794 - val_loss: 0.0103 - val_accuracy: 0.9964\n",
      "Epoch 79/1000\n",
      " 1/66 [..............................] - ETA: 0s - loss: 0.0406 - accuracy: 0.9844\n",
      "Epoch 00079: saving model to model/keypoint_classifier/keypoint_classifier.hdf5\n",
      "66/66 [==============================] - 0s 950us/step - loss: 0.0652 - accuracy: 0.9810 - val_loss: 0.0096 - val_accuracy: 0.9971\n",
      "Epoch 80/1000\n",
      " 1/66 [..............................] - ETA: 0s - loss: 0.0284 - accuracy: 0.9922\n",
      "Epoch 00080: saving model to model/keypoint_classifier/keypoint_classifier.hdf5\n",
      "66/66 [==============================] - 0s 967us/step - loss: 0.0606 - accuracy: 0.9814 - val_loss: 0.0108 - val_accuracy: 0.9968\n",
      "Epoch 81/1000\n",
      " 1/66 [..............................] - ETA: 0s - loss: 0.0413 - accuracy: 0.9922\n",
      "Epoch 00081: saving model to model/keypoint_classifier/keypoint_classifier.hdf5\n",
      "66/66 [==============================] - 0s 958us/step - loss: 0.0667 - accuracy: 0.9786 - val_loss: 0.0121 - val_accuracy: 0.9971\n",
      "Epoch 82/1000\n",
      " 1/66 [..............................] - ETA: 0s - loss: 0.0997 - accuracy: 0.9844\n",
      "Epoch 00082: saving model to model/keypoint_classifier/keypoint_classifier.hdf5\n",
      "66/66 [==============================] - 0s 950us/step - loss: 0.0647 - accuracy: 0.9809 - val_loss: 0.0101 - val_accuracy: 0.9968\n",
      "Epoch 83/1000\n",
      " 1/66 [..............................] - ETA: 0s - loss: 0.0341 - accuracy: 0.9922\n",
      "Epoch 00083: saving model to model/keypoint_classifier/keypoint_classifier.hdf5\n",
      "66/66 [==============================] - 0s 946us/step - loss: 0.0552 - accuracy: 0.9808 - val_loss: 0.0095 - val_accuracy: 0.9971\n",
      "Epoch 84/1000\n",
      " 1/66 [..............................] - ETA: 0s - loss: 0.1029 - accuracy: 0.9766\n",
      "Epoch 00084: saving model to model/keypoint_classifier/keypoint_classifier.hdf5\n",
      "66/66 [==============================] - 0s 951us/step - loss: 0.0680 - accuracy: 0.9770 - val_loss: 0.0115 - val_accuracy: 0.9964\n",
      "Epoch 85/1000\n",
      "59/66 [=========================>....] - ETA: 0s - loss: 0.0623 - accuracy: 0.9792\n",
      "Epoch 00085: saving model to model/keypoint_classifier/keypoint_classifier.hdf5\n",
      "66/66 [==============================] - 0s 1ms/step - loss: 0.0630 - accuracy: 0.9791 - val_loss: 0.0112 - val_accuracy: 0.9968\n",
      "Epoch 86/1000\n",
      " 1/66 [..............................] - ETA: 0s - loss: 0.0773 - accuracy: 0.9844\n",
      "Epoch 00086: saving model to model/keypoint_classifier/keypoint_classifier.hdf5\n",
      "66/66 [==============================] - 0s 963us/step - loss: 0.0608 - accuracy: 0.9816 - val_loss: 0.0093 - val_accuracy: 0.9971\n",
      "Epoch 87/1000\n",
      " 1/66 [..............................] - ETA: 0s - loss: 0.0872 - accuracy: 0.9688\n",
      "Epoch 00087: saving model to model/keypoint_classifier/keypoint_classifier.hdf5\n",
      "66/66 [==============================] - 0s 965us/step - loss: 0.0627 - accuracy: 0.9795 - val_loss: 0.0090 - val_accuracy: 0.9975\n",
      "Epoch 88/1000\n",
      " 1/66 [..............................] - ETA: 0s - loss: 0.0296 - accuracy: 0.9922\n",
      "Epoch 00088: saving model to model/keypoint_classifier/keypoint_classifier.hdf5\n",
      "66/66 [==============================] - 0s 953us/step - loss: 0.0582 - accuracy: 0.9830 - val_loss: 0.0093 - val_accuracy: 0.9971\n",
      "Epoch 89/1000\n",
      " 1/66 [..............................] - ETA: 0s - loss: 0.0528 - accuracy: 0.9844\n",
      "Epoch 00089: saving model to model/keypoint_classifier/keypoint_classifier.hdf5\n",
      "66/66 [==============================] - 0s 960us/step - loss: 0.0611 - accuracy: 0.9796 - val_loss: 0.0089 - val_accuracy: 0.9978\n",
      "Epoch 90/1000\n",
      " 1/66 [..............................] - ETA: 0s - loss: 0.1267 - accuracy: 0.9688\n",
      "Epoch 00090: saving model to model/keypoint_classifier/keypoint_classifier.hdf5\n",
      "66/66 [==============================] - 0s 985us/step - loss: 0.0678 - accuracy: 0.9800 - val_loss: 0.0097 - val_accuracy: 0.9968\n",
      "Epoch 91/1000\n",
      " 1/66 [..............................] - ETA: 0s - loss: 0.0331 - accuracy: 0.9922\n",
      "Epoch 00091: saving model to model/keypoint_classifier/keypoint_classifier.hdf5\n",
      "66/66 [==============================] - 0s 971us/step - loss: 0.0584 - accuracy: 0.9815 - val_loss: 0.0086 - val_accuracy: 0.9978\n",
      "Epoch 92/1000\n",
      " 1/66 [..............................] - ETA: 0s - loss: 0.0333 - accuracy: 0.9922\n",
      "Epoch 00092: saving model to model/keypoint_classifier/keypoint_classifier.hdf5\n",
      "66/66 [==============================] - 0s 972us/step - loss: 0.0565 - accuracy: 0.9821 - val_loss: 0.0113 - val_accuracy: 0.9971\n",
      "Epoch 93/1000\n",
      " 1/66 [..............................] - ETA: 0s - loss: 0.0483 - accuracy: 0.9844\n",
      "Epoch 00093: saving model to model/keypoint_classifier/keypoint_classifier.hdf5\n",
      "66/66 [==============================] - 0s 919us/step - loss: 0.0669 - accuracy: 0.9778 - val_loss: 0.0090 - val_accuracy: 0.9975\n",
      "Epoch 94/1000\n",
      " 1/66 [..............................] - ETA: 0s - loss: 0.0298 - accuracy: 0.9922\n",
      "Epoch 00094: saving model to model/keypoint_classifier/keypoint_classifier.hdf5\n",
      "66/66 [==============================] - 0s 953us/step - loss: 0.0634 - accuracy: 0.9798 - val_loss: 0.0092 - val_accuracy: 0.9971\n",
      "Epoch 95/1000\n",
      " 1/66 [..............................] - ETA: 0s - loss: 0.0625 - accuracy: 0.9766\n",
      "Epoch 00095: saving model to model/keypoint_classifier/keypoint_classifier.hdf5\n",
      "66/66 [==============================] - 0s 957us/step - loss: 0.0557 - accuracy: 0.9821 - val_loss: 0.0105 - val_accuracy: 0.9971\n",
      "Epoch 96/1000\n",
      " 1/66 [..............................] - ETA: 0s - loss: 0.0385 - accuracy: 0.9922\n",
      "Epoch 00096: saving model to model/keypoint_classifier/keypoint_classifier.hdf5\n",
      "66/66 [==============================] - 0s 963us/step - loss: 0.0642 - accuracy: 0.9801 - val_loss: 0.0100 - val_accuracy: 0.9971\n",
      "Epoch 97/1000\n",
      " 1/66 [..............................] - ETA: 0s - loss: 0.0432 - accuracy: 0.9766\n",
      "Epoch 00097: saving model to model/keypoint_classifier/keypoint_classifier.hdf5\n",
      "66/66 [==============================] - 0s 976us/step - loss: 0.0583 - accuracy: 0.9803 - val_loss: 0.0094 - val_accuracy: 0.9975\n",
      "Epoch 98/1000\n",
      " 1/66 [..............................] - ETA: 0s - loss: 0.0157 - accuracy: 1.0000\n",
      "Epoch 00098: saving model to model/keypoint_classifier/keypoint_classifier.hdf5\n",
      "66/66 [==============================] - 0s 944us/step - loss: 0.0549 - accuracy: 0.9828 - val_loss: 0.0091 - val_accuracy: 0.9975\n",
      "Epoch 99/1000\n",
      " 1/66 [..............................] - ETA: 0s - loss: 0.0580 - accuracy: 0.9688\n",
      "Epoch 00099: saving model to model/keypoint_classifier/keypoint_classifier.hdf5\n",
      "66/66 [==============================] - 0s 959us/step - loss: 0.0554 - accuracy: 0.9831 - val_loss: 0.0100 - val_accuracy: 0.9968\n",
      "Epoch 100/1000\n",
      " 1/66 [..............................] - ETA: 0s - loss: 0.0864 - accuracy: 0.9766\n",
      "Epoch 00100: saving model to model/keypoint_classifier/keypoint_classifier.hdf5\n",
      "66/66 [==============================] - 0s 978us/step - loss: 0.0593 - accuracy: 0.9822 - val_loss: 0.0116 - val_accuracy: 0.9968\n",
      "Epoch 101/1000\n",
      " 1/66 [..............................] - ETA: 0s - loss: 0.0632 - accuracy: 0.9844\n",
      "Epoch 00101: saving model to model/keypoint_classifier/keypoint_classifier.hdf5\n",
      "66/66 [==============================] - 0s 950us/step - loss: 0.0634 - accuracy: 0.9788 - val_loss: 0.0102 - val_accuracy: 0.9971\n",
      "Epoch 102/1000\n",
      " 1/66 [..............................] - ETA: 0s - loss: 0.0967 - accuracy: 0.9766\n",
      "Epoch 00102: saving model to model/keypoint_classifier/keypoint_classifier.hdf5\n",
      "66/66 [==============================] - 0s 972us/step - loss: 0.0555 - accuracy: 0.9836 - val_loss: 0.0098 - val_accuracy: 0.9968\n",
      "Epoch 103/1000\n",
      " 1/66 [..............................] - ETA: 0s - loss: 0.0683 - accuracy: 0.9688\n",
      "Epoch 00103: saving model to model/keypoint_classifier/keypoint_classifier.hdf5\n",
      "66/66 [==============================] - 0s 965us/step - loss: 0.0605 - accuracy: 0.9812 - val_loss: 0.0093 - val_accuracy: 0.9975\n",
      "Epoch 104/1000\n",
      " 1/66 [..............................] - ETA: 0s - loss: 0.0596 - accuracy: 0.9766\n",
      "Epoch 00104: saving model to model/keypoint_classifier/keypoint_classifier.hdf5\n",
      "66/66 [==============================] - 0s 970us/step - loss: 0.0566 - accuracy: 0.9824 - val_loss: 0.0099 - val_accuracy: 0.9971\n",
      "Epoch 105/1000\n",
      " 1/66 [..............................] - ETA: 0s - loss: 0.0369 - accuracy: 0.9922\n",
      "Epoch 00105: saving model to model/keypoint_classifier/keypoint_classifier.hdf5\n",
      "66/66 [==============================] - 0s 957us/step - loss: 0.0581 - accuracy: 0.9797 - val_loss: 0.0087 - val_accuracy: 0.9975\n",
      "Epoch 106/1000\n",
      " 1/66 [..............................] - ETA: 0s - loss: 0.0380 - accuracy: 0.9766\n",
      "Epoch 00106: saving model to model/keypoint_classifier/keypoint_classifier.hdf5\n",
      "66/66 [==============================] - 0s 960us/step - loss: 0.0559 - accuracy: 0.9816 - val_loss: 0.0094 - val_accuracy: 0.9971\n",
      "Epoch 107/1000\n",
      " 1/66 [..............................] - ETA: 0s - loss: 0.0167 - accuracy: 0.9922\n",
      "Epoch 00107: saving model to model/keypoint_classifier/keypoint_classifier.hdf5\n",
      "66/66 [==============================] - 0s 970us/step - loss: 0.0568 - accuracy: 0.9819 - val_loss: 0.0098 - val_accuracy: 0.9971\n",
      "Epoch 108/1000\n",
      " 1/66 [..............................] - ETA: 0s - loss: 0.0507 - accuracy: 0.9688\n",
      "Epoch 00108: saving model to model/keypoint_classifier/keypoint_classifier.hdf5\n",
      "66/66 [==============================] - 0s 973us/step - loss: 0.0563 - accuracy: 0.9814 - val_loss: 0.0094 - val_accuracy: 0.9975\n",
      "Epoch 109/1000\n",
      " 1/66 [..............................] - ETA: 0s - loss: 0.0199 - accuracy: 1.0000\n",
      "Epoch 00109: saving model to model/keypoint_classifier/keypoint_classifier.hdf5\n",
      "66/66 [==============================] - 0s 975us/step - loss: 0.0529 - accuracy: 0.9834 - val_loss: 0.0118 - val_accuracy: 0.9975\n",
      "Epoch 110/1000\n",
      " 1/66 [..............................] - ETA: 0s - loss: 0.0706 - accuracy: 0.9844\n",
      "Epoch 00110: saving model to model/keypoint_classifier/keypoint_classifier.hdf5\n",
      "66/66 [==============================] - 0s 976us/step - loss: 0.0564 - accuracy: 0.9833 - val_loss: 0.0092 - val_accuracy: 0.9975\n",
      "Epoch 111/1000\n",
      "63/66 [===========================>..] - ETA: 0s - loss: 0.0621 - accuracy: 0.9803\n",
      "Epoch 00111: saving model to model/keypoint_classifier/keypoint_classifier.hdf5\n",
      "66/66 [==============================] - 0s 1ms/step - loss: 0.0619 - accuracy: 0.9802 - val_loss: 0.0090 - val_accuracy: 0.9971\n",
      "Epoch 00111: early stopping\n"
     ]
    },
    {
     "data": {
      "text/plain": [
       "<keras.callbacks.History at 0x16762c880>"
      ]
     },
     "execution_count": 11,
     "metadata": {},
     "output_type": "execute_result"
    }
   ],
   "source": [
    "model.fit(\n",
    "    X_train,\n",
    "    y_train,\n",
    "    epochs=1000,\n",
    "    batch_size=128,\n",
    "    validation_data=(X_test, y_test),\n",
    "    callbacks=[cp_callback, es_callback]\n",
    ")"
   ]
  },
  {
   "cell_type": "code",
   "execution_count": 12,
   "metadata": {},
   "outputs": [
    {
     "name": "stdout",
     "output_type": "stream",
     "text": [
      "22/22 [==============================] - 0s 368us/step - loss: 0.0090 - accuracy: 0.9971\n"
     ]
    }
   ],
   "source": [
    "# モデル評価\n",
    "val_loss, val_acc = model.evaluate(X_test, y_test, batch_size=128)"
   ]
  },
  {
   "cell_type": "code",
   "execution_count": 13,
   "metadata": {},
   "outputs": [],
   "source": [
    "# 保存したモデルのロード\n",
    "model = tf.keras.models.load_model(model_save_path)"
   ]
  },
  {
   "cell_type": "code",
   "execution_count": 14,
   "metadata": {},
   "outputs": [
    {
     "name": "stdout",
     "output_type": "stream",
     "text": [
      "[5.7866357e-20 3.2050057e-12 6.6682684e-13 2.0373704e-11 2.4482767e-09\n",
      " 3.8852629e-11 7.7335557e-17 6.8301124e-06 1.0589414e-07 8.5356542e-06\n",
      " 2.6992568e-15 5.6732964e-23 2.0074377e-18 9.9998415e-01 9.2042168e-10\n",
      " 2.9979327e-07 4.2258892e-16 1.8898336e-16]\n",
      "13\n"
     ]
    }
   ],
   "source": [
    "# 推論テスト\n",
    "predict_result = model.predict(np.array([X_test[0]]))\n",
    "print(np.squeeze(predict_result))\n",
    "print(np.argmax(np.squeeze(predict_result)))"
   ]
  },
  {
   "cell_type": "markdown",
   "metadata": {},
   "source": [
    "# 시각화(confusion_matrix)"
   ]
  },
  {
   "cell_type": "code",
   "execution_count": 15,
   "metadata": {},
   "outputs": [
    {
     "data": {
      "image/png": "[encoded data removed]",
      "text/plain": [
       "<Figure size 504x432 with 2 Axes>"
      ]
     },
     "metadata": {
      "needs_background": "light"
     },
     "output_type": "display_data"
    },
    {
     "name": "stdout",
     "output_type": "stream",
     "text": [
      "Classification Report\n",
      "              precision    recall  f1-score   support\n",
      "\n",
      "           0       1.00      1.00      1.00       219\n",
      "           1       0.98      0.98      0.98       162\n",
      "           2       0.97      0.98      0.97       134\n",
      "           3       1.00      1.00      1.00       200\n",
      "           4       1.00      1.00      1.00       174\n",
      "           5       1.00      1.00      1.00       173\n",
      "           6       1.00      1.00      1.00       102\n",
      "           7       1.00      1.00      1.00       127\n",
      "           8       1.00      1.00      1.00       123\n",
      "           9       1.00      1.00      1.00       224\n",
      "          10       1.00      1.00      1.00       174\n",
      "          11       0.99      1.00      1.00       121\n",
      "          12       1.00      1.00      1.00       208\n",
      "          13       1.00      1.00      1.00       204\n",
      "          14       1.00      1.00      1.00       188\n",
      "          15       1.00      1.00      1.00       245\n",
      "\n",
      "    accuracy                           1.00      2778\n",
      "   macro avg       1.00      1.00      1.00      2778\n",
      "weighted avg       1.00      1.00      1.00      2778\n",
      "\n"
     ]
    }
   ],
   "source": [
    "import pandas as pd\n",
    "import seaborn as sns\n",
    "import matplotlib.pyplot as plt\n",
    "from sklearn.metrics import confusion_matrix, classification_report\n",
    "\n",
    "def print_confusion_matrix(y_true, y_pred, report=True):\n",
    "    labels = sorted(list(set(y_true)))\n",
    "    cmx_data = confusion_matrix(y_true, y_pred, labels=labels)\n",
    "    \n",
    "    df_cmx = pd.DataFrame(cmx_data, index=labels, columns=labels)\n",
    " \n",
    "    fig, ax = plt.subplots(figsize=(7, 6))\n",
    "    sns.heatmap(df_cmx, annot=True, fmt='g' ,square=False)\n",
    "    ax.set_ylim(len(set(y_true)), 0)\n",
    "    plt.show()\n",
    "    \n",
    "    if report:\n",
    "        print('Classification Report')\n",
    "        print(classification_report(y_test, y_pred))\n",
    "\n",
    "Y_pred = model.predict(X_test)\n",
    "y_pred = np.argmax(Y_pred, axis=1)\n",
    "\n",
    "print_confusion_matrix(y_test, y_pred)"
   ]
  },
  {
   "cell_type": "markdown",
   "metadata": {},
   "source": [
    "# Tensorflow-Lite용 모델로 변환"
   ]
  },
  {
   "cell_type": "code",
   "execution_count": 16,
   "metadata": {},
   "outputs": [],
   "source": [
    "# 추론 전용 모델로 저장\n",
    "model.save(model_save_path, include_optimizer=False)"
   ]
  },
  {
   "cell_type": "code",
   "execution_count": 17,
   "metadata": {},
   "outputs": [
    {
     "name": "stdout",
     "output_type": "stream",
     "text": [
      "INFO:tensorflow:Assets written to: /var/folders/yl/3qq35jrn65z0p93ls3scx5s80000gn/T/tmpf5dfaniz/assets\n"
     ]
    },
    {
     "name": "stderr",
     "output_type": "stream",
     "text": [
      "2022-07-02 20:40:58.125335: W tensorflow/python/util/util.cc:368] Sets are not currently considered sequences, but this may change in the future, so consider avoiding using them.\n",
      "2022-07-02 20:40:58.515445: W tensorflow/compiler/mlir/lite/python/tf_tfl_flatbuffer_helpers.cc:363] Ignored output_format.\n",
      "2022-07-02 20:40:58.515456: W tensorflow/compiler/mlir/lite/python/tf_tfl_flatbuffer_helpers.cc:366] Ignored drop_control_dependency.\n",
      "WARNING:absl:Buffer deduplication procedure will be skipped when flatbuffer library is not properly loaded\n",
      "2022-07-02 20:40:58.515634: I tensorflow/cc/saved_model/reader.cc:43] Reading SavedModel from: /var/folders/yl/3qq35jrn65z0p93ls3scx5s80000gn/T/tmpf5dfaniz\n",
      "2022-07-02 20:40:58.516313: I tensorflow/cc/saved_model/reader.cc:107] Reading meta graph with tags { serve }\n",
      "2022-07-02 20:40:58.516317: I tensorflow/cc/saved_model/reader.cc:148] Reading SavedModel debug info (if present) from: /var/folders/yl/3qq35jrn65z0p93ls3scx5s80000gn/T/tmpf5dfaniz\n",
      "2022-07-02 20:40:58.519001: I tensorflow/cc/saved_model/loader.cc:210] Restoring SavedModel bundle.\n",
      "2022-07-02 20:40:58.541496: I tensorflow/cc/saved_model/loader.cc:194] Running initialization op on SavedModel bundle at path: /var/folders/yl/3qq35jrn65z0p93ls3scx5s80000gn/T/tmpf5dfaniz\n",
      "2022-07-02 20:40:58.547708: I tensorflow/cc/saved_model/loader.cc:283] SavedModel load for tags { serve }; Status: success: OK. Took 32075 microseconds.\n",
      "2022-07-02 20:40:58.560313: I tensorflow/compiler/mlir/tensorflow/utils/dump_mlir_util.cc:237] disabling MLIR crash reproducer, set env var `MLIR_CRASH_REPRODUCER_DIRECTORY` to enable.\n",
      "2022-07-02 20:40:58.584133: I tensorflow/lite/tools/optimize/quantize_weights.cc:225] Skipping quantization of tensor sequential/dense_2/MatMul because it has fewer than 1024 elements (576).\n"
     ]
    },
    {
     "data": {
      "text/plain": [
       "9520"
      ]
     },
     "execution_count": 17,
     "metadata": {},
     "output_type": "execute_result"
    }
   ],
   "source": [
    "# 모델변환(양자화)\n",
    "tflite_save_path = 'model/keypoint_classifier/keypoint_classifier.tflite'\n",
    "\n",
    "converter = tf.lite.TFLiteConverter.from_keras_model(model)\n",
    "converter.optimizations = [tf.lite.Optimize.DEFAULT]\n",
    "tflite_quantized_model = converter.convert()\n",
    "\n",
    "open(tflite_save_path, 'wb').write(tflite_quantized_model)"
   ]
  },
  {
   "cell_type": "markdown",
   "metadata": {},
   "source": [
    "# 추론 테스트"
   ]
  },
  {
   "cell_type": "code",
   "execution_count": 18,
   "metadata": {},
   "outputs": [
    {
     "name": "stderr",
     "output_type": "stream",
     "text": [
      "INFO: Initialized TensorFlow Lite runtime.\n"
     ]
    }
   ],
   "source": [
    "interpreter = tf.lite.Interpreter(model_path=tflite_save_path)\n",
    "interpreter.allocate_tensors()"
   ]
  },
  {
   "cell_type": "code",
   "execution_count": 19,
   "metadata": {},
   "outputs": [],
   "source": [
    "# 입출력 텐서 얻기\n",
    "input_details = interpreter.get_input_details()\n",
    "output_details = interpreter.get_output_details()"
   ]
  },
  {
   "cell_type": "code",
   "execution_count": 20,
   "metadata": {},
   "outputs": [],
   "source": [
    "interpreter.set_tensor(input_details[0]['index'], np.array([X_test[0]]))"
   ]
  },
  {
   "cell_type": "code",
   "execution_count": 21,
   "metadata": {
    "scrolled": true
   },
   "outputs": [
    {
     "name": "stdout",
     "output_type": "stream",
     "text": [
      "CPU times: user 121 µs, sys: 173 µs, total: 294 µs\n",
      "Wall time: 175 µs\n"
     ]
    }
   ],
   "source": [
    "%%time\n",
    "# 추론 실시\n",
    "interpreter.invoke()\n",
    "tflite_results = interpreter.get_tensor(output_details[0]['index'])"
   ]
  },
  {
   "cell_type": "code",
   "execution_count": 22,
   "metadata": {},
   "outputs": [
    {
     "name": "stdout",
     "output_type": "stream",
     "text": [
      "[4.0380935e-20 2.8114839e-12 6.4579993e-13 1.5845658e-11 1.9272191e-09\n",
      " 3.3849010e-11 6.3583501e-17 6.4679343e-06 1.0008688e-07 8.0249856e-06\n",
      " 2.3442361e-15 4.2221240e-23 1.8294129e-18 9.9998510e-01 7.9038459e-10\n",
      " 2.9646904e-07 3.6723738e-16 1.5407979e-16]\n",
      "13\n"
     ]
    }
   ],
   "source": [
    "print(np.squeeze(tflite_results))\n",
    "print(np.argmax(np.squeeze(tflite_results)))"
   ]
  },
  {
   "cell_type": "code",
   "execution_count": null,
   "metadata": {},
   "outputs": [],
   "source": []
  }
 ],
 "metadata": {
  "kernelspec": {
   "display_name": "Python 3 (ipykernel)",
   "language": "python",
   "name": "python3"
  },
  "language_info": {
   "codemirror_mode": {
    "name": "ipython",
    "version": 3
   },
   "file_extension": ".py",
   "mimetype": "text/x-python",
   "name": "python",
   "nbconvert_exporter": "python",
   "pygments_lexer": "ipython3",
   "version": "3.10.4"
  }
 },
 "nbformat": 4,
 "nbformat_minor": 4
}
