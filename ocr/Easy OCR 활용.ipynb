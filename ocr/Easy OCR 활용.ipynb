{
 "cells": [
  {
   "cell_type": "markdown",
   "id": "2a20ec53",
   "metadata": {},
   "source": [
    "# Easy OCR\n",
    "\n",
    "- Detection과 Recognition 부분으로 나누어져 있으며, Text Detection은 네이버에서 제공하는 CRAFT를 사용하고 Recognition은 CRNN을 사용.\n",
    "- Framework는 모든 소스가 pytorch로 작성.\n",
    "- OCR 수행결과와 텍스트의 Bounding Box 좌표를 얻을 수 있음.\n",
    "- 또한, 한 번에 여러 개의 언어 인식도 가능."
   ]
  },
  {
   "cell_type": "code",
   "execution_count": 1,
   "id": "667ac6d1",
   "metadata": {
    "scrolled": true
   },
   "outputs": [
    {
     "name": "stdout",
     "output_type": "stream",
     "text": [
      "Requirement already satisfied: easyocr in c:\\users\\ygl\\anaconda3\\lib\\site-packages (1.5.0)\n",
      "Requirement already satisfied: Pillow in c:\\users\\ygl\\anaconda3\\lib\\site-packages (from easyocr) (9.0.1)\n",
      "Requirement already satisfied: scipy in c:\\users\\ygl\\anaconda3\\lib\\site-packages (from easyocr) (1.7.3)\n",
      "Requirement already satisfied: numpy in c:\\users\\ygl\\anaconda3\\lib\\site-packages (from easyocr) (1.21.5)\n",
      "Requirement already satisfied: torch in c:\\users\\ygl\\anaconda3\\lib\\site-packages (from easyocr) (1.11.0)\n",
      "Requirement already satisfied: opencv-python-headless<=4.5.4.60 in c:\\users\\ygl\\anaconda3\\lib\\site-packages (from easyocr) (4.5.4.60)\n",
      "Requirement already satisfied: torchvision>=0.5 in c:\\users\\ygl\\anaconda3\\lib\\site-packages (from easyocr) (0.12.0)\n",
      "Requirement already satisfied: python-bidi in c:\\users\\ygl\\anaconda3\\lib\\site-packages (from easyocr) (0.4.2)\n",
      "Requirement already satisfied: scikit-image in c:\\users\\ygl\\anaconda3\\lib\\site-packages (from easyocr) (0.19.2)\n",
      "Requirement already satisfied: PyYAML in c:\\users\\ygl\\anaconda3\\lib\\site-packages (from easyocr) (6.0)\n",
      "Requirement already satisfied: typing-extensions in c:\\users\\ygl\\anaconda3\\lib\\site-packages (from torchvision>=0.5->easyocr) (4.1.1)\n",
      "Requirement already satisfied: requests in c:\\users\\ygl\\anaconda3\\lib\\site-packages (from torchvision>=0.5->easyocr) (2.27.1)\n",
      "Requirement already satisfied: six in c:\\users\\ygl\\anaconda3\\lib\\site-packages (from python-bidi->easyocr) (1.16.0)\n",
      "Requirement already satisfied: idna<4,>=2.5 in c:\\users\\ygl\\anaconda3\\lib\\site-packages (from requests->torchvision>=0.5->easyocr) (3.3)\n",
      "Requirement already satisfied: urllib3<1.27,>=1.21.1 in c:\\users\\ygl\\anaconda3\\lib\\site-packages (from requests->torchvision>=0.5->easyocr) (1.26.9)\n",
      "Requirement already satisfied: certifi>=2017.4.17 in c:\\users\\ygl\\anaconda3\\lib\\site-packages (from requests->torchvision>=0.5->easyocr) (2022.5.18.1)\n",
      "Requirement already satisfied: charset-normalizer~=2.0.0 in c:\\users\\ygl\\anaconda3\\lib\\site-packages (from requests->torchvision>=0.5->easyocr) (2.0.4)\n",
      "Requirement already satisfied: packaging>=20.0 in c:\\users\\ygl\\anaconda3\\lib\\site-packages (from scikit-image->easyocr) (21.3)\n",
      "Requirement already satisfied: networkx>=2.2 in c:\\users\\ygl\\anaconda3\\lib\\site-packages (from scikit-image->easyocr) (2.6.3)\n",
      "Requirement already satisfied: tifffile>=2019.7.26 in c:\\users\\ygl\\anaconda3\\lib\\site-packages (from scikit-image->easyocr) (2021.7.2)\n",
      "Requirement already satisfied: imageio>=2.4.1 in c:\\users\\ygl\\anaconda3\\lib\\site-packages (from scikit-image->easyocr) (2.9.0)\n",
      "Requirement already satisfied: PyWavelets>=1.1.1 in c:\\users\\ygl\\anaconda3\\lib\\site-packages (from scikit-image->easyocr) (1.3.0)\n",
      "Requirement already satisfied: pyparsing!=3.0.5,>=2.0.2 in c:\\users\\ygl\\anaconda3\\lib\\site-packages (from packaging>=20.0->scikit-image->easyocr) (3.0.4)\n"
     ]
    }
   ],
   "source": [
    "!pip install easyocr"
   ]
  },
  {
   "cell_type": "code",
   "execution_count": 1,
   "id": "b9aca488",
   "metadata": {},
   "outputs": [],
   "source": [
    "from matplotlib import pyplot as plt\n",
    "from imutils.perspective import four_point_transform\n",
    "from imutils.contours import sort_contours\n",
    "import imutils\n",
    "import cv2\n",
    "import requests\n",
    "import numpy as np\n",
    "from PIL import ImageFont, ImageDraw, Image"
   ]
  },
  {
   "cell_type": "code",
   "execution_count": null,
   "id": "dd17c3b3",
   "metadata": {},
   "outputs": [],
   "source": [
    "from easyocr import Reader"
   ]
  },
  {
   "cell_type": "markdown",
   "id": "478fe12f",
   "metadata": {},
   "source": [
    "easy ocr을 사용하면 kernel이 죽는 현상이 생김"
   ]
  },
  {
   "cell_type": "code",
   "execution_count": null,
   "id": "a46ccaad",
   "metadata": {},
   "outputs": [],
   "source": []
  },
  {
   "cell_type": "code",
   "execution_count": null,
   "id": "d6d4031d",
   "metadata": {},
   "outputs": [],
   "source": []
  },
  {
   "cell_type": "code",
   "execution_count": null,
   "id": "eba75482",
   "metadata": {},
   "outputs": [],
   "source": []
  },
  {
   "cell_type": "code",
   "execution_count": null,
   "id": "ba433ef7",
   "metadata": {},
   "outputs": [],
   "source": []
  },
  {
   "cell_type": "code",
   "execution_count": null,
   "id": "541cc30c",
   "metadata": {},
   "outputs": [],
   "source": []
  },
  {
   "cell_type": "code",
   "execution_count": null,
   "id": "0e72b945",
   "metadata": {},
   "outputs": [],
   "source": []
  },
  {
   "cell_type": "code",
   "execution_count": null,
   "id": "628a1fe3",
   "metadata": {},
   "outputs": [],
   "source": []
  },
  {
   "cell_type": "code",
   "execution_count": null,
   "id": "91098846",
   "metadata": {},
   "outputs": [],
   "source": []
  },
  {
   "cell_type": "code",
   "execution_count": null,
   "id": "8ee8188c",
   "metadata": {},
   "outputs": [],
   "source": []
  },
  {
   "cell_type": "code",
   "execution_count": null,
   "id": "d2b851fa",
   "metadata": {},
   "outputs": [],
   "source": []
  },
  {
   "cell_type": "code",
   "execution_count": null,
   "id": "19d408f1",
   "metadata": {},
   "outputs": [],
   "source": []
  }
 ],
 "metadata": {
  "kernelspec": {
   "display_name": "Python 3 (ipykernel)",
   "language": "python",
   "name": "python3"
  },
  "language_info": {
   "codemirror_mode": {
    "name": "ipython",
    "version": 3
   },
   "file_extension": ".py",
   "mimetype": "text/x-python",
   "name": "python",
   "nbconvert_exporter": "python",
   "pygments_lexer": "ipython3",
   "version": "3.7.11"
  }
 },
 "nbformat": 4,
 "nbformat_minor": 5
}
